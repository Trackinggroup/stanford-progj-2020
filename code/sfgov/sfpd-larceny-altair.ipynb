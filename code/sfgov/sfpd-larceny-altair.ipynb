{
 "cells": [
  {
   "cell_type": "markdown",
   "metadata": {},
   "source": [
    "# Investigating SFPD incident reports\n",
    "\n",
    "### By Eric Sagara\n",
    "\n",
    "This walkthrough is designed to show you how I approach a new data analysis. It requires a couple of libraries that you may or may not be familiar with. The first is Pandas which is installed by using `pip install pandas`. The second is numpy, which is a Pandas dependency - in other words it should automatically install when you install pandas. Lastly is the charting library Altair and it's dependency Vega. These are installed using `pip install altair vega`.\n",
    "\n",
    "Let's begin by importing our libraries. In Jupyter Notebook you need to enable Altair's rendering engine by adding `alt.renderers.enable('notebook')` after importing."
   ]
  },
  {
   "cell_type": "code",
   "execution_count": 1,
   "metadata": {},
   "outputs": [
    {
     "data": {
      "text/plain": [
       "RendererRegistry.enable('notebook')"
      ]
     },
     "execution_count": 1,
     "metadata": {},
     "output_type": "execute_result"
    }
   ],
   "source": [
    "import pandas as pd\n",
    "import numpy as np\n",
    "import altair as alt\n",
    "\n",
    "\n",
    "# Enable Altair's rendering engine\n",
    "alt.renderers.enable('notebook')"
   ]
  },
  {
   "cell_type": "markdown",
   "metadata": {},
   "source": [
    "## Loading data\n",
    "\n",
    "There are two methods of loading the data. You can either download the data ahead of time and load the file or just pass the url where the file is located into pandas' `read_csv` method. We are also going to parse one of the date fields into a python `datetime` object on import."
   ]
  },
  {
   "cell_type": "code",
   "execution_count": 5,
   "metadata": {},
   "outputs": [],
   "source": [
    "# Use the filepath url if the data is stored on your computer, \n",
    "# otherwise use the csv_url to download and load it into pandas\n",
    "filepath = 'data/sfpd_incidents_2018_to_present_20190228.csv'\n",
    "csv_url = 'https://data.sfgov.org/api/views/wg3w-h783/rows.csv?accessType=DOWNLOAD'\n",
    "\n",
    "# Note we use the parse_dates parameter to convert the \n",
    "# Incident Date field values to datetime objects\n",
    "incidents = pd.read_csv(filepath, parse_dates = ['Incident Date'])"
   ]
  },
  {
   "cell_type": "markdown",
   "metadata": {},
   "source": [
    "## First look at the data\n",
    "\n",
    "Let's start to get a general idea of what the data looks like. We begin simply by lookiing at the first few rows of the data."
   ]
  },
  {
   "cell_type": "code",
   "execution_count": 6,
   "metadata": {},
   "outputs": [
    {
     "data": {
      "text/html": [
       "<div>\n",
       "<style scoped>\n",
       "    .dataframe tbody tr th:only-of-type {\n",
       "        vertical-align: middle;\n",
       "    }\n",
       "\n",
       "    .dataframe tbody tr th {\n",
       "        vertical-align: top;\n",
       "    }\n",
       "\n",
       "    .dataframe thead th {\n",
       "        text-align: right;\n",
       "    }\n",
       "</style>\n",
       "<table border=\"1\" class=\"dataframe\">\n",
       "  <thead>\n",
       "    <tr style=\"text-align: right;\">\n",
       "      <th></th>\n",
       "      <th>Incident Datetime</th>\n",
       "      <th>Incident Date</th>\n",
       "      <th>Incident Time</th>\n",
       "      <th>Incident Year</th>\n",
       "      <th>Incident Day of Week</th>\n",
       "      <th>Report Datetime</th>\n",
       "      <th>Row ID</th>\n",
       "      <th>Incident ID</th>\n",
       "      <th>Incident Number</th>\n",
       "      <th>CAD Number</th>\n",
       "      <th>...</th>\n",
       "      <th>Incident Description</th>\n",
       "      <th>Resolution</th>\n",
       "      <th>Intersection</th>\n",
       "      <th>CNN</th>\n",
       "      <th>Police District</th>\n",
       "      <th>Analysis Neighborhood</th>\n",
       "      <th>Supervisor District</th>\n",
       "      <th>Latitude</th>\n",
       "      <th>Longitude</th>\n",
       "      <th>point</th>\n",
       "    </tr>\n",
       "  </thead>\n",
       "  <tbody>\n",
       "    <tr>\n",
       "      <th>0</th>\n",
       "      <td>2018/10/22 10:50:00 AM</td>\n",
       "      <td>2018-10-22</td>\n",
       "      <td>10:50</td>\n",
       "      <td>2018</td>\n",
       "      <td>Monday</td>\n",
       "      <td>2018/10/22 11:24:00 AM</td>\n",
       "      <td>72897505073</td>\n",
       "      <td>728975</td>\n",
       "      <td>180801798</td>\n",
       "      <td>182951518.0</td>\n",
       "      <td>...</td>\n",
       "      <td>Burglary, Other Bldg., Unlawful Entry</td>\n",
       "      <td>Open or Active</td>\n",
       "      <td>VAN NESS AVE \\ OAK ST</td>\n",
       "      <td>30705000.0</td>\n",
       "      <td>Northern</td>\n",
       "      <td>Tenderloin</td>\n",
       "      <td>6.0</td>\n",
       "      <td>37.775422</td>\n",
       "      <td>-122.419397</td>\n",
       "      <td>(37.7754222198843, -122.41939688941916)</td>\n",
       "    </tr>\n",
       "    <tr>\n",
       "      <th>1</th>\n",
       "      <td>2018/08/24 02:50:00 PM</td>\n",
       "      <td>2018-08-24</td>\n",
       "      <td>14:50</td>\n",
       "      <td>2018</td>\n",
       "      <td>Friday</td>\n",
       "      <td>2018/08/24 02:52:00 PM</td>\n",
       "      <td>72925174010</td>\n",
       "      <td>729251</td>\n",
       "      <td>180638466</td>\n",
       "      <td>181362475.0</td>\n",
       "      <td>...</td>\n",
       "      <td>Missing Juvenile</td>\n",
       "      <td>Open or Active</td>\n",
       "      <td>28TH AVE \\ VICENTE ST</td>\n",
       "      <td>23250000.0</td>\n",
       "      <td>Taraval</td>\n",
       "      <td>Sunset/Parkside</td>\n",
       "      <td>4.0</td>\n",
       "      <td>37.738900</td>\n",
       "      <td>-122.485074</td>\n",
       "      <td>(37.738899869536326, -122.48507449528636)</td>\n",
       "    </tr>\n",
       "    <tr>\n",
       "      <th>2</th>\n",
       "      <td>2018/10/14 02:54:00 PM</td>\n",
       "      <td>2018-10-14</td>\n",
       "      <td>14:54</td>\n",
       "      <td>2018</td>\n",
       "      <td>Sunday</td>\n",
       "      <td>2018/10/24 01:10:00 PM</td>\n",
       "      <td>72980906303</td>\n",
       "      <td>729809</td>\n",
       "      <td>180807520</td>\n",
       "      <td>182971760.0</td>\n",
       "      <td>...</td>\n",
       "      <td>Theft, From Building, $200-$950</td>\n",
       "      <td>Open or Active</td>\n",
       "      <td>PINTO AVE \\ ARBALLO DR</td>\n",
       "      <td>23104000.0</td>\n",
       "      <td>Taraval</td>\n",
       "      <td>Lakeshore</td>\n",
       "      <td>7.0</td>\n",
       "      <td>37.720450</td>\n",
       "      <td>-122.483015</td>\n",
       "      <td>(37.7204499957522, -122.48301534194144)</td>\n",
       "    </tr>\n",
       "    <tr>\n",
       "      <th>3</th>\n",
       "      <td>2018/10/14 02:54:00 PM</td>\n",
       "      <td>2018-10-14</td>\n",
       "      <td>14:54</td>\n",
       "      <td>2018</td>\n",
       "      <td>Sunday</td>\n",
       "      <td>2018/10/24 01:10:00 PM</td>\n",
       "      <td>72980964070</td>\n",
       "      <td>729809</td>\n",
       "      <td>180807520</td>\n",
       "      <td>182971760.0</td>\n",
       "      <td>...</td>\n",
       "      <td>Suspicious Occurrence</td>\n",
       "      <td>Open or Active</td>\n",
       "      <td>PINTO AVE \\ ARBALLO DR</td>\n",
       "      <td>23104000.0</td>\n",
       "      <td>Taraval</td>\n",
       "      <td>Lakeshore</td>\n",
       "      <td>7.0</td>\n",
       "      <td>37.720450</td>\n",
       "      <td>-122.483015</td>\n",
       "      <td>(37.7204499957522, -122.48301534194144)</td>\n",
       "    </tr>\n",
       "    <tr>\n",
       "      <th>4</th>\n",
       "      <td>2018/10/18 04:40:00 PM</td>\n",
       "      <td>2018-10-18</td>\n",
       "      <td>16:40</td>\n",
       "      <td>2018</td>\n",
       "      <td>Thursday</td>\n",
       "      <td>2018/10/26 07:42:00 AM</td>\n",
       "      <td>73011316650</td>\n",
       "      <td>730113</td>\n",
       "      <td>180791014</td>\n",
       "      <td>182911410.0</td>\n",
       "      <td>...</td>\n",
       "      <td>Methamphetamine Offense</td>\n",
       "      <td>Cite or Arrest Adult</td>\n",
       "      <td>BOARDMAN PL \\ BRYANT ST</td>\n",
       "      <td>23914000.0</td>\n",
       "      <td>Southern</td>\n",
       "      <td>South of Market</td>\n",
       "      <td>6.0</td>\n",
       "      <td>37.775161</td>\n",
       "      <td>-122.403636</td>\n",
       "      <td>(37.7751608100771, -122.40363551943442)</td>\n",
       "    </tr>\n",
       "  </tbody>\n",
       "</table>\n",
       "<p>5 rows × 26 columns</p>\n",
       "</div>"
      ],
      "text/plain": [
       "        Incident Datetime Incident Date Incident Time  Incident Year  \\\n",
       "0  2018/10/22 10:50:00 AM    2018-10-22         10:50           2018   \n",
       "1  2018/08/24 02:50:00 PM    2018-08-24         14:50           2018   \n",
       "2  2018/10/14 02:54:00 PM    2018-10-14         14:54           2018   \n",
       "3  2018/10/14 02:54:00 PM    2018-10-14         14:54           2018   \n",
       "4  2018/10/18 04:40:00 PM    2018-10-18         16:40           2018   \n",
       "\n",
       "  Incident Day of Week         Report Datetime       Row ID  Incident ID  \\\n",
       "0               Monday  2018/10/22 11:24:00 AM  72897505073       728975   \n",
       "1               Friday  2018/08/24 02:52:00 PM  72925174010       729251   \n",
       "2               Sunday  2018/10/24 01:10:00 PM  72980906303       729809   \n",
       "3               Sunday  2018/10/24 01:10:00 PM  72980964070       729809   \n",
       "4             Thursday  2018/10/26 07:42:00 AM  73011316650       730113   \n",
       "\n",
       "   Incident Number   CAD Number  ...                   Incident Description  \\\n",
       "0        180801798  182951518.0  ...  Burglary, Other Bldg., Unlawful Entry   \n",
       "1        180638466  181362475.0  ...                       Missing Juvenile   \n",
       "2        180807520  182971760.0  ...        Theft, From Building, $200-$950   \n",
       "3        180807520  182971760.0  ...                  Suspicious Occurrence   \n",
       "4        180791014  182911410.0  ...                Methamphetamine Offense   \n",
       "\n",
       "             Resolution             Intersection         CNN Police District  \\\n",
       "0        Open or Active    VAN NESS AVE \\ OAK ST  30705000.0        Northern   \n",
       "1        Open or Active    28TH AVE \\ VICENTE ST  23250000.0         Taraval   \n",
       "2        Open or Active   PINTO AVE \\ ARBALLO DR  23104000.0         Taraval   \n",
       "3        Open or Active   PINTO AVE \\ ARBALLO DR  23104000.0         Taraval   \n",
       "4  Cite or Arrest Adult  BOARDMAN PL \\ BRYANT ST  23914000.0        Southern   \n",
       "\n",
       "  Analysis Neighborhood Supervisor District   Latitude   Longitude  \\\n",
       "0            Tenderloin                 6.0  37.775422 -122.419397   \n",
       "1       Sunset/Parkside                 4.0  37.738900 -122.485074   \n",
       "2             Lakeshore                 7.0  37.720450 -122.483015   \n",
       "3             Lakeshore                 7.0  37.720450 -122.483015   \n",
       "4       South of Market                 6.0  37.775161 -122.403636   \n",
       "\n",
       "                                       point  \n",
       "0    (37.7754222198843, -122.41939688941916)  \n",
       "1  (37.738899869536326, -122.48507449528636)  \n",
       "2    (37.7204499957522, -122.48301534194144)  \n",
       "3    (37.7204499957522, -122.48301534194144)  \n",
       "4    (37.7751608100771, -122.40363551943442)  \n",
       "\n",
       "[5 rows x 26 columns]"
      ]
     },
     "execution_count": 6,
     "metadata": {},
     "output_type": "execute_result"
    }
   ],
   "source": [
    "incidents.head()"
   ]
  },
  {
   "cell_type": "markdown",
   "metadata": {},
   "source": [
    "Next let's get a deeper sense of what the individual columns are."
   ]
  },
  {
   "cell_type": "code",
   "execution_count": 7,
   "metadata": {},
   "outputs": [
    {
     "name": "stdout",
     "output_type": "stream",
     "text": [
      "<class 'pandas.core.frame.DataFrame'>\n",
      "RangeIndex: 176242 entries, 0 to 176241\n",
      "Data columns (total 26 columns):\n",
      "Incident Datetime          176242 non-null object\n",
      "Incident Date              176242 non-null datetime64[ns]\n",
      "Incident Time              176242 non-null object\n",
      "Incident Year              176242 non-null int64\n",
      "Incident Day of Week       176242 non-null object\n",
      "Report Datetime            176242 non-null object\n",
      "Row ID                     176242 non-null int64\n",
      "Incident ID                176242 non-null int64\n",
      "Incident Number            176242 non-null int64\n",
      "CAD Number                 135931 non-null float64\n",
      "Report Type Code           176242 non-null object\n",
      "Report Type Description    176242 non-null object\n",
      "Filed Online               37841 non-null object\n",
      "Incident Code              176242 non-null int64\n",
      "Incident Category          176225 non-null object\n",
      "Incident Subcategory       176225 non-null object\n",
      "Incident Description       176242 non-null object\n",
      "Resolution                 176242 non-null object\n",
      "Intersection               167341 non-null object\n",
      "CNN                        167341 non-null float64\n",
      "Police District            176242 non-null object\n",
      "Analysis Neighborhood      167285 non-null object\n",
      "Supervisor District        167341 non-null float64\n",
      "Latitude                   167341 non-null float64\n",
      "Longitude                  167341 non-null float64\n",
      "point                      167341 non-null object\n",
      "dtypes: datetime64[ns](1), float64(5), int64(5), object(15)\n",
      "memory usage: 35.0+ MB\n"
     ]
    }
   ],
   "source": [
    "incidents.info()"
   ]
  },
  {
   "cell_type": "markdown",
   "metadata": {},
   "source": [
    "### Looking for unique IDs\n",
    "\n",
    "There are several columns which appear to possibly be unique IDs for incidents. We should check and make sure they are what we think they are."
   ]
  },
  {
   "cell_type": "code",
   "execution_count": 8,
   "metadata": {},
   "outputs": [
    {
     "name": "stdout",
     "output_type": "stream",
     "text": [
      "Row ID [False]\n",
      "Incident ID [False  True]\n",
      "Incident Number [False  True]\n",
      "CAD Number [False  True]\n"
     ]
    }
   ],
   "source": [
    "id_columns = ['Row ID', 'Incident ID', 'Incident Number', 'CAD Number']\n",
    "\n",
    "for column in id_columns:\n",
    "    print(column, incidents[column].duplicated().unique())"
   ]
  },
  {
   "cell_type": "markdown",
   "metadata": {},
   "source": [
    "This shows us that there are duplicate values in every column except `Row ID`. This is important to keep in mind. It means there are multiple incidents or crimes associated with a given report. Why is this important? Well many times we like to conduct sanity checks by comparing total numbers of crimes against other publically available data sources. Other times we want to compare one city's crime rates against anothers. To do so you will need to access another data source such as the FBI's UCR program.\n",
    "\n",
    "There's a large caveat when working with UCR data. The FBI requires that each report be filed only once under a single crime category. The crime category is based off of the most serious offense and any other crimes associated with a given incident would not appear in the FBI data.\n",
    "\n",
    "For example, let's say someone was kidnapped and then murdered. In the SFPD data this would appear as two records - one for the kidnapping and another for the murder. However, in the FBI data this would only be counted as a murder, the kidnapping would be ignored for the purposes of data collection.\n",
    "\n",
    "This means that any numbers generated from SFPD most likely will not match up exactly with FBI figures. This is not necessarily a big deal. You are not looking for exact matches when conducting sanity checks between multiple sources, you just want to make sure your numbers are in the ballpark with other publically available figures.\n",
    "\n",
    "### Checking to see how complete the data is\n",
    "\n",
    "Often there is a lag in data collection or early data collection efforts could be spotty. This means we could have days, months or even years with incomplete data. We should check this to make sure we are working with a complete data set. We can do this using the `Incident Date` column."
   ]
  },
  {
   "cell_type": "code",
   "execution_count": 9,
   "metadata": {},
   "outputs": [
    {
     "data": {
      "text/plain": [
       "count                  176242\n",
       "unique                    423\n",
       "top       2018-08-01 00:00:00\n",
       "freq                      543\n",
       "first     2018-01-01 00:00:00\n",
       "last      2019-02-27 00:00:00\n",
       "Name: Incident Date, dtype: object"
      ]
     },
     "execution_count": 9,
     "metadata": {},
     "output_type": "execute_result"
    }
   ],
   "source": [
    "incidents['Incident Date'].describe()"
   ]
  },
  {
   "cell_type": "markdown",
   "metadata": {},
   "source": [
    "This tells us data collection began on January 1, 2018 and the data is current through February 26, 2019. However that doesn't give us the entire picture. Rather than examine the data day-by-day, let's start by doing a `groupby` operation using the `Incident Date` and the `Row ID` column that has unique values."
   ]
  },
  {
   "cell_type": "code",
   "execution_count": 10,
   "metadata": {},
   "outputs": [
    {
     "data": {
      "text/html": [
       "<div>\n",
       "<style scoped>\n",
       "    .dataframe tbody tr th:only-of-type {\n",
       "        vertical-align: middle;\n",
       "    }\n",
       "\n",
       "    .dataframe tbody tr th {\n",
       "        vertical-align: top;\n",
       "    }\n",
       "\n",
       "    .dataframe thead th {\n",
       "        text-align: right;\n",
       "    }\n",
       "</style>\n",
       "<table border=\"1\" class=\"dataframe\">\n",
       "  <thead>\n",
       "    <tr style=\"text-align: right;\">\n",
       "      <th></th>\n",
       "      <th>Incident Date</th>\n",
       "      <th>Row ID</th>\n",
       "    </tr>\n",
       "  </thead>\n",
       "  <tbody>\n",
       "    <tr>\n",
       "      <th>0</th>\n",
       "      <td>2018-01-01</td>\n",
       "      <td>483</td>\n",
       "    </tr>\n",
       "    <tr>\n",
       "      <th>1</th>\n",
       "      <td>2018-01-02</td>\n",
       "      <td>399</td>\n",
       "    </tr>\n",
       "    <tr>\n",
       "      <th>2</th>\n",
       "      <td>2018-01-03</td>\n",
       "      <td>431</td>\n",
       "    </tr>\n",
       "    <tr>\n",
       "      <th>3</th>\n",
       "      <td>2018-01-04</td>\n",
       "      <td>472</td>\n",
       "    </tr>\n",
       "    <tr>\n",
       "      <th>4</th>\n",
       "      <td>2018-01-05</td>\n",
       "      <td>466</td>\n",
       "    </tr>\n",
       "  </tbody>\n",
       "</table>\n",
       "</div>"
      ],
      "text/plain": [
       "  Incident Date  Row ID\n",
       "0    2018-01-01     483\n",
       "1    2018-01-02     399\n",
       "2    2018-01-03     431\n",
       "3    2018-01-04     472\n",
       "4    2018-01-05     466"
      ]
     },
     "execution_count": 10,
     "metadata": {},
     "output_type": "execute_result"
    }
   ],
   "source": [
    "incidents_by_day = incidents[['Incident Date', 'Row ID']].groupby('Incident Date', as_index = False).count()\n",
    "incidents_by_day.head()"
   ]
  },
  {
   "cell_type": "markdown",
   "metadata": {},
   "source": [
    "And let's use Altair to dive in further, but first let's rename the `Row ID` column into something that makes sense.\n",
    "\n",
    "We start by creating a `Chart` object and passing in our data that we want to chart. Then we specify what type of chart we want - in this case a line chart - and finally what the X and Y axes will be."
   ]
  },
  {
   "cell_type": "code",
   "execution_count": 12,
   "metadata": {},
   "outputs": [
    {
     "data": {
      "application/javascript": [
       "var spec = {\"config\": {\"view\": {\"width\": 400, \"height\": 300}}, \"data\": {\"name\": \"data-bc646506ecd8f150e37346ab016377de\"}, \"mark\": \"line\", \"encoding\": {\"x\": {\"type\": \"temporal\", \"field\": \"Incident Date\"}, \"y\": {\"type\": \"quantitative\", \"field\": \"Crimes\"}}, \"$schema\": \"https://vega.github.io/schema/vega-lite/v2.6.0.json\", \"datasets\": {\"data-bc646506ecd8f150e37346ab016377de\": [{\"Incident Date\": \"2018-01-01T00:00:00\", \"Crimes\": 483}, {\"Incident Date\": \"2018-01-02T00:00:00\", \"Crimes\": 399}, {\"Incident Date\": \"2018-01-03T00:00:00\", \"Crimes\": 431}, {\"Incident Date\": \"2018-01-04T00:00:00\", \"Crimes\": 472}, {\"Incident Date\": \"2018-01-05T00:00:00\", \"Crimes\": 466}, {\"Incident Date\": \"2018-01-06T00:00:00\", \"Crimes\": 460}, {\"Incident Date\": \"2018-01-07T00:00:00\", \"Crimes\": 398}, {\"Incident Date\": \"2018-01-08T00:00:00\", \"Crimes\": 358}, {\"Incident Date\": \"2018-01-09T00:00:00\", \"Crimes\": 422}, {\"Incident Date\": \"2018-01-10T00:00:00\", \"Crimes\": 427}, {\"Incident Date\": \"2018-01-11T00:00:00\", \"Crimes\": 426}, {\"Incident Date\": \"2018-01-12T00:00:00\", \"Crimes\": 469}, {\"Incident Date\": \"2018-01-13T00:00:00\", \"Crimes\": 455}, {\"Incident Date\": \"2018-01-14T00:00:00\", \"Crimes\": 414}, {\"Incident Date\": \"2018-01-15T00:00:00\", \"Crimes\": 420}, {\"Incident Date\": \"2018-01-16T00:00:00\", \"Crimes\": 373}, {\"Incident Date\": \"2018-01-17T00:00:00\", \"Crimes\": 410}, {\"Incident Date\": \"2018-01-18T00:00:00\", \"Crimes\": 425}, {\"Incident Date\": \"2018-01-19T00:00:00\", \"Crimes\": 488}, {\"Incident Date\": \"2018-01-20T00:00:00\", \"Crimes\": 389}, {\"Incident Date\": \"2018-01-21T00:00:00\", \"Crimes\": 377}, {\"Incident Date\": \"2018-01-22T00:00:00\", \"Crimes\": 456}, {\"Incident Date\": \"2018-01-23T00:00:00\", \"Crimes\": 466}, {\"Incident Date\": \"2018-01-24T00:00:00\", \"Crimes\": 421}, {\"Incident Date\": \"2018-01-25T00:00:00\", \"Crimes\": 466}, {\"Incident Date\": \"2018-01-26T00:00:00\", \"Crimes\": 504}, {\"Incident Date\": \"2018-01-27T00:00:00\", \"Crimes\": 461}, {\"Incident Date\": \"2018-01-28T00:00:00\", \"Crimes\": 412}, {\"Incident Date\": \"2018-01-29T00:00:00\", \"Crimes\": 430}, {\"Incident Date\": \"2018-01-30T00:00:00\", \"Crimes\": 456}, {\"Incident Date\": \"2018-01-31T00:00:00\", \"Crimes\": 467}, {\"Incident Date\": \"2018-02-01T00:00:00\", \"Crimes\": 476}, {\"Incident Date\": \"2018-02-02T00:00:00\", \"Crimes\": 444}, {\"Incident Date\": \"2018-02-03T00:00:00\", \"Crimes\": 424}, {\"Incident Date\": \"2018-02-04T00:00:00\", \"Crimes\": 332}, {\"Incident Date\": \"2018-02-05T00:00:00\", \"Crimes\": 394}, {\"Incident Date\": \"2018-02-06T00:00:00\", \"Crimes\": 440}, {\"Incident Date\": \"2018-02-07T00:00:00\", \"Crimes\": 435}, {\"Incident Date\": \"2018-02-08T00:00:00\", \"Crimes\": 478}, {\"Incident Date\": \"2018-02-09T00:00:00\", \"Crimes\": 473}, {\"Incident Date\": \"2018-02-10T00:00:00\", \"Crimes\": 461}, {\"Incident Date\": \"2018-02-11T00:00:00\", \"Crimes\": 363}, {\"Incident Date\": \"2018-02-12T00:00:00\", \"Crimes\": 423}, {\"Incident Date\": \"2018-02-13T00:00:00\", \"Crimes\": 369}, {\"Incident Date\": \"2018-02-14T00:00:00\", \"Crimes\": 447}, {\"Incident Date\": \"2018-02-15T00:00:00\", \"Crimes\": 453}, {\"Incident Date\": \"2018-02-16T00:00:00\", \"Crimes\": 405}, {\"Incident Date\": \"2018-02-17T00:00:00\", \"Crimes\": 455}, {\"Incident Date\": \"2018-02-18T00:00:00\", \"Crimes\": 395}, {\"Incident Date\": \"2018-02-19T00:00:00\", \"Crimes\": 382}, {\"Incident Date\": \"2018-02-20T00:00:00\", \"Crimes\": 465}, {\"Incident Date\": \"2018-02-21T00:00:00\", \"Crimes\": 448}, {\"Incident Date\": \"2018-02-22T00:00:00\", \"Crimes\": 468}, {\"Incident Date\": \"2018-02-23T00:00:00\", \"Crimes\": 436}, {\"Incident Date\": \"2018-02-24T00:00:00\", \"Crimes\": 469}, {\"Incident Date\": \"2018-02-25T00:00:00\", \"Crimes\": 428}, {\"Incident Date\": \"2018-02-26T00:00:00\", \"Crimes\": 412}, {\"Incident Date\": \"2018-02-27T00:00:00\", \"Crimes\": 412}, {\"Incident Date\": \"2018-02-28T00:00:00\", \"Crimes\": 454}, {\"Incident Date\": \"2018-03-01T00:00:00\", \"Crimes\": 468}, {\"Incident Date\": \"2018-03-02T00:00:00\", \"Crimes\": 405}, {\"Incident Date\": \"2018-03-03T00:00:00\", \"Crimes\": 410}, {\"Incident Date\": \"2018-03-04T00:00:00\", \"Crimes\": 400}, {\"Incident Date\": \"2018-03-05T00:00:00\", \"Crimes\": 384}, {\"Incident Date\": \"2018-03-06T00:00:00\", \"Crimes\": 357}, {\"Incident Date\": \"2018-03-07T00:00:00\", \"Crimes\": 400}, {\"Incident Date\": \"2018-03-08T00:00:00\", \"Crimes\": 396}, {\"Incident Date\": \"2018-03-09T00:00:00\", \"Crimes\": 439}, {\"Incident Date\": \"2018-03-10T00:00:00\", \"Crimes\": 422}, {\"Incident Date\": \"2018-03-11T00:00:00\", \"Crimes\": 296}, {\"Incident Date\": \"2018-03-12T00:00:00\", \"Crimes\": 398}, {\"Incident Date\": \"2018-03-13T00:00:00\", \"Crimes\": 412}, {\"Incident Date\": \"2018-03-14T00:00:00\", \"Crimes\": 428}, {\"Incident Date\": \"2018-03-15T00:00:00\", \"Crimes\": 411}, {\"Incident Date\": \"2018-03-16T00:00:00\", \"Crimes\": 460}, {\"Incident Date\": \"2018-03-17T00:00:00\", \"Crimes\": 409}, {\"Incident Date\": \"2018-03-18T00:00:00\", \"Crimes\": 397}, {\"Incident Date\": \"2018-03-19T00:00:00\", \"Crimes\": 407}, {\"Incident Date\": \"2018-03-20T00:00:00\", \"Crimes\": 389}, {\"Incident Date\": \"2018-03-21T00:00:00\", \"Crimes\": 377}, {\"Incident Date\": \"2018-03-22T00:00:00\", \"Crimes\": 410}, {\"Incident Date\": \"2018-03-23T00:00:00\", \"Crimes\": 484}, {\"Incident Date\": \"2018-03-24T00:00:00\", \"Crimes\": 399}, {\"Incident Date\": \"2018-03-25T00:00:00\", \"Crimes\": 389}, {\"Incident Date\": \"2018-03-26T00:00:00\", \"Crimes\": 362}, {\"Incident Date\": \"2018-03-27T00:00:00\", \"Crimes\": 455}, {\"Incident Date\": \"2018-03-28T00:00:00\", \"Crimes\": 452}, {\"Incident Date\": \"2018-03-29T00:00:00\", \"Crimes\": 383}, {\"Incident Date\": \"2018-03-30T00:00:00\", \"Crimes\": 461}, {\"Incident Date\": \"2018-03-31T00:00:00\", \"Crimes\": 430}, {\"Incident Date\": \"2018-04-01T00:00:00\", \"Crimes\": 395}, {\"Incident Date\": \"2018-04-02T00:00:00\", \"Crimes\": 412}, {\"Incident Date\": \"2018-04-03T00:00:00\", \"Crimes\": 383}, {\"Incident Date\": \"2018-04-04T00:00:00\", \"Crimes\": 450}, {\"Incident Date\": \"2018-04-05T00:00:00\", \"Crimes\": 421}, {\"Incident Date\": \"2018-04-06T00:00:00\", \"Crimes\": 422}, {\"Incident Date\": \"2018-04-07T00:00:00\", \"Crimes\": 393}, {\"Incident Date\": \"2018-04-08T00:00:00\", \"Crimes\": 357}, {\"Incident Date\": \"2018-04-09T00:00:00\", \"Crimes\": 407}, {\"Incident Date\": \"2018-04-10T00:00:00\", \"Crimes\": 425}, {\"Incident Date\": \"2018-04-11T00:00:00\", \"Crimes\": 515}, {\"Incident Date\": \"2018-04-12T00:00:00\", \"Crimes\": 390}, {\"Incident Date\": \"2018-04-13T00:00:00\", \"Crimes\": 518}, {\"Incident Date\": \"2018-04-14T00:00:00\", \"Crimes\": 422}, {\"Incident Date\": \"2018-04-15T00:00:00\", \"Crimes\": 377}, {\"Incident Date\": \"2018-04-16T00:00:00\", \"Crimes\": 425}, {\"Incident Date\": \"2018-04-17T00:00:00\", \"Crimes\": 396}, {\"Incident Date\": \"2018-04-18T00:00:00\", \"Crimes\": 457}, {\"Incident Date\": \"2018-04-19T00:00:00\", \"Crimes\": 459}, {\"Incident Date\": \"2018-04-20T00:00:00\", \"Crimes\": 499}, {\"Incident Date\": \"2018-04-21T00:00:00\", \"Crimes\": 389}, {\"Incident Date\": \"2018-04-22T00:00:00\", \"Crimes\": 365}, {\"Incident Date\": \"2018-04-23T00:00:00\", \"Crimes\": 372}, {\"Incident Date\": \"2018-04-24T00:00:00\", \"Crimes\": 404}, {\"Incident Date\": \"2018-04-25T00:00:00\", \"Crimes\": 515}, {\"Incident Date\": \"2018-04-26T00:00:00\", \"Crimes\": 439}, {\"Incident Date\": \"2018-04-27T00:00:00\", \"Crimes\": 452}, {\"Incident Date\": \"2018-04-28T00:00:00\", \"Crimes\": 427}, {\"Incident Date\": \"2018-04-29T00:00:00\", \"Crimes\": 362}, {\"Incident Date\": \"2018-04-30T00:00:00\", \"Crimes\": 415}, {\"Incident Date\": \"2018-05-01T00:00:00\", \"Crimes\": 462}, {\"Incident Date\": \"2018-05-02T00:00:00\", \"Crimes\": 430}, {\"Incident Date\": \"2018-05-03T00:00:00\", \"Crimes\": 395}, {\"Incident Date\": \"2018-05-04T00:00:00\", \"Crimes\": 485}, {\"Incident Date\": \"2018-05-05T00:00:00\", \"Crimes\": 436}, {\"Incident Date\": \"2018-05-06T00:00:00\", \"Crimes\": 397}, {\"Incident Date\": \"2018-05-07T00:00:00\", \"Crimes\": 363}, {\"Incident Date\": \"2018-05-08T00:00:00\", \"Crimes\": 493}, {\"Incident Date\": \"2018-05-09T00:00:00\", \"Crimes\": 426}, {\"Incident Date\": \"2018-05-10T00:00:00\", \"Crimes\": 445}, {\"Incident Date\": \"2018-05-11T00:00:00\", \"Crimes\": 420}, {\"Incident Date\": \"2018-05-12T00:00:00\", \"Crimes\": 453}, {\"Incident Date\": \"2018-05-13T00:00:00\", \"Crimes\": 355}, {\"Incident Date\": \"2018-05-14T00:00:00\", \"Crimes\": 408}, {\"Incident Date\": \"2018-05-15T00:00:00\", \"Crimes\": 429}, {\"Incident Date\": \"2018-05-16T00:00:00\", \"Crimes\": 437}, {\"Incident Date\": \"2018-05-17T00:00:00\", \"Crimes\": 423}, {\"Incident Date\": \"2018-05-18T00:00:00\", \"Crimes\": 492}, {\"Incident Date\": \"2018-05-19T00:00:00\", \"Crimes\": 403}, {\"Incident Date\": \"2018-05-20T00:00:00\", \"Crimes\": 428}, {\"Incident Date\": \"2018-05-21T00:00:00\", \"Crimes\": 401}, {\"Incident Date\": \"2018-05-22T00:00:00\", \"Crimes\": 417}, {\"Incident Date\": \"2018-05-23T00:00:00\", \"Crimes\": 450}, {\"Incident Date\": \"2018-05-24T00:00:00\", \"Crimes\": 418}, {\"Incident Date\": \"2018-05-25T00:00:00\", \"Crimes\": 416}, {\"Incident Date\": \"2018-05-26T00:00:00\", \"Crimes\": 417}, {\"Incident Date\": \"2018-05-27T00:00:00\", \"Crimes\": 414}, {\"Incident Date\": \"2018-05-28T00:00:00\", \"Crimes\": 406}, {\"Incident Date\": \"2018-05-29T00:00:00\", \"Crimes\": 385}, {\"Incident Date\": \"2018-05-30T00:00:00\", \"Crimes\": 394}, {\"Incident Date\": \"2018-05-31T00:00:00\", \"Crimes\": 421}, {\"Incident Date\": \"2018-06-01T00:00:00\", \"Crimes\": 467}, {\"Incident Date\": \"2018-06-02T00:00:00\", \"Crimes\": 391}, {\"Incident Date\": \"2018-06-03T00:00:00\", \"Crimes\": 368}, {\"Incident Date\": \"2018-06-04T00:00:00\", \"Crimes\": 396}, {\"Incident Date\": \"2018-06-05T00:00:00\", \"Crimes\": 411}, {\"Incident Date\": \"2018-06-06T00:00:00\", \"Crimes\": 413}, {\"Incident Date\": \"2018-06-07T00:00:00\", \"Crimes\": 355}, {\"Incident Date\": \"2018-06-08T00:00:00\", \"Crimes\": 433}, {\"Incident Date\": \"2018-06-09T00:00:00\", \"Crimes\": 406}, {\"Incident Date\": \"2018-06-10T00:00:00\", \"Crimes\": 389}, {\"Incident Date\": \"2018-06-11T00:00:00\", \"Crimes\": 405}, {\"Incident Date\": \"2018-06-12T00:00:00\", \"Crimes\": 462}, {\"Incident Date\": \"2018-06-13T00:00:00\", \"Crimes\": 408}, {\"Incident Date\": \"2018-06-14T00:00:00\", \"Crimes\": 405}, {\"Incident Date\": \"2018-06-15T00:00:00\", \"Crimes\": 416}, {\"Incident Date\": \"2018-06-16T00:00:00\", \"Crimes\": 442}, {\"Incident Date\": \"2018-06-17T00:00:00\", \"Crimes\": 357}, {\"Incident Date\": \"2018-06-18T00:00:00\", \"Crimes\": 387}, {\"Incident Date\": \"2018-06-19T00:00:00\", \"Crimes\": 435}, {\"Incident Date\": \"2018-06-20T00:00:00\", \"Crimes\": 412}, {\"Incident Date\": \"2018-06-21T00:00:00\", \"Crimes\": 382}, {\"Incident Date\": \"2018-06-22T00:00:00\", \"Crimes\": 467}, {\"Incident Date\": \"2018-06-23T00:00:00\", \"Crimes\": 450}, {\"Incident Date\": \"2018-06-24T00:00:00\", \"Crimes\": 490}, {\"Incident Date\": \"2018-06-25T00:00:00\", \"Crimes\": 448}, {\"Incident Date\": \"2018-06-26T00:00:00\", \"Crimes\": 432}, {\"Incident Date\": \"2018-06-27T00:00:00\", \"Crimes\": 421}, {\"Incident Date\": \"2018-06-28T00:00:00\", \"Crimes\": 449}, {\"Incident Date\": \"2018-06-29T00:00:00\", \"Crimes\": 452}, {\"Incident Date\": \"2018-06-30T00:00:00\", \"Crimes\": 434}, {\"Incident Date\": \"2018-07-01T00:00:00\", \"Crimes\": 432}, {\"Incident Date\": \"2018-07-02T00:00:00\", \"Crimes\": 492}, {\"Incident Date\": \"2018-07-03T00:00:00\", \"Crimes\": 456}, {\"Incident Date\": \"2018-07-04T00:00:00\", \"Crimes\": 408}, {\"Incident Date\": \"2018-07-05T00:00:00\", \"Crimes\": 473}, {\"Incident Date\": \"2018-07-06T00:00:00\", \"Crimes\": 446}, {\"Incident Date\": \"2018-07-07T00:00:00\", \"Crimes\": 437}, {\"Incident Date\": \"2018-07-08T00:00:00\", \"Crimes\": 362}, {\"Incident Date\": \"2018-07-09T00:00:00\", \"Crimes\": 381}, {\"Incident Date\": \"2018-07-10T00:00:00\", \"Crimes\": 436}, {\"Incident Date\": \"2018-07-11T00:00:00\", \"Crimes\": 433}, {\"Incident Date\": \"2018-07-12T00:00:00\", \"Crimes\": 430}, {\"Incident Date\": \"2018-07-13T00:00:00\", \"Crimes\": 495}, {\"Incident Date\": \"2018-07-14T00:00:00\", \"Crimes\": 451}, {\"Incident Date\": \"2018-07-15T00:00:00\", \"Crimes\": 411}, {\"Incident Date\": \"2018-07-16T00:00:00\", \"Crimes\": 454}, {\"Incident Date\": \"2018-07-17T00:00:00\", \"Crimes\": 493}, {\"Incident Date\": \"2018-07-18T00:00:00\", \"Crimes\": 477}, {\"Incident Date\": \"2018-07-19T00:00:00\", \"Crimes\": 469}, {\"Incident Date\": \"2018-07-20T00:00:00\", \"Crimes\": 493}, {\"Incident Date\": \"2018-07-21T00:00:00\", \"Crimes\": 492}, {\"Incident Date\": \"2018-07-22T00:00:00\", \"Crimes\": 398}, {\"Incident Date\": \"2018-07-23T00:00:00\", \"Crimes\": 471}, {\"Incident Date\": \"2018-07-24T00:00:00\", \"Crimes\": 472}, {\"Incident Date\": \"2018-07-25T00:00:00\", \"Crimes\": 474}, {\"Incident Date\": \"2018-07-26T00:00:00\", \"Crimes\": 440}, {\"Incident Date\": \"2018-07-27T00:00:00\", \"Crimes\": 511}, {\"Incident Date\": \"2018-07-28T00:00:00\", \"Crimes\": 428}, {\"Incident Date\": \"2018-07-29T00:00:00\", \"Crimes\": 435}, {\"Incident Date\": \"2018-07-30T00:00:00\", \"Crimes\": 455}, {\"Incident Date\": \"2018-07-31T00:00:00\", \"Crimes\": 481}, {\"Incident Date\": \"2018-08-01T00:00:00\", \"Crimes\": 543}, {\"Incident Date\": \"2018-08-02T00:00:00\", \"Crimes\": 459}, {\"Incident Date\": \"2018-08-03T00:00:00\", \"Crimes\": 496}, {\"Incident Date\": \"2018-08-04T00:00:00\", \"Crimes\": 407}, {\"Incident Date\": \"2018-08-05T00:00:00\", \"Crimes\": 474}, {\"Incident Date\": \"2018-08-06T00:00:00\", \"Crimes\": 448}, {\"Incident Date\": \"2018-08-07T00:00:00\", \"Crimes\": 472}, {\"Incident Date\": \"2018-08-08T00:00:00\", \"Crimes\": 426}, {\"Incident Date\": \"2018-08-09T00:00:00\", \"Crimes\": 390}, {\"Incident Date\": \"2018-08-10T00:00:00\", \"Crimes\": 520}, {\"Incident Date\": \"2018-08-11T00:00:00\", \"Crimes\": 470}, {\"Incident Date\": \"2018-08-12T00:00:00\", \"Crimes\": 431}, {\"Incident Date\": \"2018-08-13T00:00:00\", \"Crimes\": 427}, {\"Incident Date\": \"2018-08-14T00:00:00\", \"Crimes\": 500}, {\"Incident Date\": \"2018-08-15T00:00:00\", \"Crimes\": 459}, {\"Incident Date\": \"2018-08-16T00:00:00\", \"Crimes\": 412}, {\"Incident Date\": \"2018-08-17T00:00:00\", \"Crimes\": 409}, {\"Incident Date\": \"2018-08-18T00:00:00\", \"Crimes\": 395}, {\"Incident Date\": \"2018-08-19T00:00:00\", \"Crimes\": 368}, {\"Incident Date\": \"2018-08-20T00:00:00\", \"Crimes\": 433}, {\"Incident Date\": \"2018-08-21T00:00:00\", \"Crimes\": 472}, {\"Incident Date\": \"2018-08-22T00:00:00\", \"Crimes\": 445}, {\"Incident Date\": \"2018-08-23T00:00:00\", \"Crimes\": 408}, {\"Incident Date\": \"2018-08-24T00:00:00\", \"Crimes\": 536}, {\"Incident Date\": \"2018-08-25T00:00:00\", \"Crimes\": 491}, {\"Incident Date\": \"2018-08-26T00:00:00\", \"Crimes\": 386}, {\"Incident Date\": \"2018-08-27T00:00:00\", \"Crimes\": 485}, {\"Incident Date\": \"2018-08-28T00:00:00\", \"Crimes\": 440}, {\"Incident Date\": \"2018-08-29T00:00:00\", \"Crimes\": 462}, {\"Incident Date\": \"2018-08-30T00:00:00\", \"Crimes\": 427}, {\"Incident Date\": \"2018-08-31T00:00:00\", \"Crimes\": 458}, {\"Incident Date\": \"2018-09-01T00:00:00\", \"Crimes\": 486}, {\"Incident Date\": \"2018-09-02T00:00:00\", \"Crimes\": 427}, {\"Incident Date\": \"2018-09-03T00:00:00\", \"Crimes\": 435}, {\"Incident Date\": \"2018-09-04T00:00:00\", \"Crimes\": 415}, {\"Incident Date\": \"2018-09-05T00:00:00\", \"Crimes\": 453}, {\"Incident Date\": \"2018-09-06T00:00:00\", \"Crimes\": 363}, {\"Incident Date\": \"2018-09-07T00:00:00\", \"Crimes\": 436}, {\"Incident Date\": \"2018-09-08T00:00:00\", \"Crimes\": 488}, {\"Incident Date\": \"2018-09-09T00:00:00\", \"Crimes\": 391}, {\"Incident Date\": \"2018-09-10T00:00:00\", \"Crimes\": 398}, {\"Incident Date\": \"2018-09-11T00:00:00\", \"Crimes\": 436}, {\"Incident Date\": \"2018-09-12T00:00:00\", \"Crimes\": 470}, {\"Incident Date\": \"2018-09-13T00:00:00\", \"Crimes\": 370}, {\"Incident Date\": \"2018-09-14T00:00:00\", \"Crimes\": 474}, {\"Incident Date\": \"2018-09-15T00:00:00\", \"Crimes\": 445}, {\"Incident Date\": \"2018-09-16T00:00:00\", \"Crimes\": 401}, {\"Incident Date\": \"2018-09-17T00:00:00\", \"Crimes\": 398}, {\"Incident Date\": \"2018-09-18T00:00:00\", \"Crimes\": 438}, {\"Incident Date\": \"2018-09-19T00:00:00\", \"Crimes\": 470}, {\"Incident Date\": \"2018-09-20T00:00:00\", \"Crimes\": 460}, {\"Incident Date\": \"2018-09-21T00:00:00\", \"Crimes\": 478}, {\"Incident Date\": \"2018-09-22T00:00:00\", \"Crimes\": 452}, {\"Incident Date\": \"2018-09-23T00:00:00\", \"Crimes\": 407}, {\"Incident Date\": \"2018-09-24T00:00:00\", \"Crimes\": 429}, {\"Incident Date\": \"2018-09-25T00:00:00\", \"Crimes\": 436}, {\"Incident Date\": \"2018-09-26T00:00:00\", \"Crimes\": 390}, {\"Incident Date\": \"2018-09-27T00:00:00\", \"Crimes\": 407}, {\"Incident Date\": \"2018-09-28T00:00:00\", \"Crimes\": 462}, {\"Incident Date\": \"2018-09-29T00:00:00\", \"Crimes\": 419}, {\"Incident Date\": \"2018-09-30T00:00:00\", \"Crimes\": 374}, {\"Incident Date\": \"2018-10-01T00:00:00\", \"Crimes\": 466}, {\"Incident Date\": \"2018-10-02T00:00:00\", \"Crimes\": 391}, {\"Incident Date\": \"2018-10-03T00:00:00\", \"Crimes\": 447}, {\"Incident Date\": \"2018-10-04T00:00:00\", \"Crimes\": 480}, {\"Incident Date\": \"2018-10-05T00:00:00\", \"Crimes\": 448}, {\"Incident Date\": \"2018-10-06T00:00:00\", \"Crimes\": 452}, {\"Incident Date\": \"2018-10-07T00:00:00\", \"Crimes\": 446}, {\"Incident Date\": \"2018-10-08T00:00:00\", \"Crimes\": 404}, {\"Incident Date\": \"2018-10-09T00:00:00\", \"Crimes\": 394}, {\"Incident Date\": \"2018-10-10T00:00:00\", \"Crimes\": 460}, {\"Incident Date\": \"2018-10-11T00:00:00\", \"Crimes\": 448}, {\"Incident Date\": \"2018-10-12T00:00:00\", \"Crimes\": 434}, {\"Incident Date\": \"2018-10-13T00:00:00\", \"Crimes\": 439}, {\"Incident Date\": \"2018-10-14T00:00:00\", \"Crimes\": 355}, {\"Incident Date\": \"2018-10-15T00:00:00\", \"Crimes\": 489}, {\"Incident Date\": \"2018-10-16T00:00:00\", \"Crimes\": 447}, {\"Incident Date\": \"2018-10-17T00:00:00\", \"Crimes\": 445}, {\"Incident Date\": \"2018-10-18T00:00:00\", \"Crimes\": 402}, {\"Incident Date\": \"2018-10-19T00:00:00\", \"Crimes\": 434}, {\"Incident Date\": \"2018-10-20T00:00:00\", \"Crimes\": 464}, {\"Incident Date\": \"2018-10-21T00:00:00\", \"Crimes\": 426}, {\"Incident Date\": \"2018-10-22T00:00:00\", \"Crimes\": 441}, {\"Incident Date\": \"2018-10-23T00:00:00\", \"Crimes\": 439}, {\"Incident Date\": \"2018-10-24T00:00:00\", \"Crimes\": 378}, {\"Incident Date\": \"2018-10-25T00:00:00\", \"Crimes\": 409}, {\"Incident Date\": \"2018-10-26T00:00:00\", \"Crimes\": 430}, {\"Incident Date\": \"2018-10-27T00:00:00\", \"Crimes\": 434}, {\"Incident Date\": \"2018-10-28T00:00:00\", \"Crimes\": 404}, {\"Incident Date\": \"2018-10-29T00:00:00\", \"Crimes\": 375}, {\"Incident Date\": \"2018-10-30T00:00:00\", \"Crimes\": 405}, {\"Incident Date\": \"2018-10-31T00:00:00\", \"Crimes\": 484}, {\"Incident Date\": \"2018-11-01T00:00:00\", \"Crimes\": 453}, {\"Incident Date\": \"2018-11-02T00:00:00\", \"Crimes\": 404}, {\"Incident Date\": \"2018-11-03T00:00:00\", \"Crimes\": 421}, {\"Incident Date\": \"2018-11-04T00:00:00\", \"Crimes\": 381}, {\"Incident Date\": \"2018-11-05T00:00:00\", \"Crimes\": 407}, {\"Incident Date\": \"2018-11-06T00:00:00\", \"Crimes\": 385}, {\"Incident Date\": \"2018-11-07T00:00:00\", \"Crimes\": 403}, {\"Incident Date\": \"2018-11-08T00:00:00\", \"Crimes\": 418}, {\"Incident Date\": \"2018-11-09T00:00:00\", \"Crimes\": 504}, {\"Incident Date\": \"2018-11-10T00:00:00\", \"Crimes\": 457}, {\"Incident Date\": \"2018-11-11T00:00:00\", \"Crimes\": 409}, {\"Incident Date\": \"2018-11-12T00:00:00\", \"Crimes\": 430}, {\"Incident Date\": \"2018-11-13T00:00:00\", \"Crimes\": 435}, {\"Incident Date\": \"2018-11-14T00:00:00\", \"Crimes\": 441}, {\"Incident Date\": \"2018-11-15T00:00:00\", \"Crimes\": 393}, {\"Incident Date\": \"2018-11-16T00:00:00\", \"Crimes\": 385}, {\"Incident Date\": \"2018-11-17T00:00:00\", \"Crimes\": 367}, {\"Incident Date\": \"2018-11-18T00:00:00\", \"Crimes\": 360}, {\"Incident Date\": \"2018-11-19T00:00:00\", \"Crimes\": 406}, {\"Incident Date\": \"2018-11-20T00:00:00\", \"Crimes\": 408}, {\"Incident Date\": \"2018-11-21T00:00:00\", \"Crimes\": 388}, {\"Incident Date\": \"2018-11-22T00:00:00\", \"Crimes\": 309}, {\"Incident Date\": \"2018-11-23T00:00:00\", \"Crimes\": 391}, {\"Incident Date\": \"2018-11-24T00:00:00\", \"Crimes\": 398}, {\"Incident Date\": \"2018-11-25T00:00:00\", \"Crimes\": 378}, {\"Incident Date\": \"2018-11-26T00:00:00\", \"Crimes\": 409}, {\"Incident Date\": \"2018-11-27T00:00:00\", \"Crimes\": 314}, {\"Incident Date\": \"2018-11-28T00:00:00\", \"Crimes\": 409}, {\"Incident Date\": \"2018-11-29T00:00:00\", \"Crimes\": 419}, {\"Incident Date\": \"2018-11-30T00:00:00\", \"Crimes\": 417}, {\"Incident Date\": \"2018-12-01T00:00:00\", \"Crimes\": 384}, {\"Incident Date\": \"2018-12-02T00:00:00\", \"Crimes\": 343}, {\"Incident Date\": \"2018-12-03T00:00:00\", \"Crimes\": 418}, {\"Incident Date\": \"2018-12-04T00:00:00\", \"Crimes\": 401}, {\"Incident Date\": \"2018-12-05T00:00:00\", \"Crimes\": 420}, {\"Incident Date\": \"2018-12-06T00:00:00\", \"Crimes\": 376}, {\"Incident Date\": \"2018-12-07T00:00:00\", \"Crimes\": 467}, {\"Incident Date\": \"2018-12-08T00:00:00\", \"Crimes\": 412}, {\"Incident Date\": \"2018-12-09T00:00:00\", \"Crimes\": 411}, {\"Incident Date\": \"2018-12-10T00:00:00\", \"Crimes\": 372}, {\"Incident Date\": \"2018-12-11T00:00:00\", \"Crimes\": 356}, {\"Incident Date\": \"2018-12-12T00:00:00\", \"Crimes\": 403}, {\"Incident Date\": \"2018-12-13T00:00:00\", \"Crimes\": 387}, {\"Incident Date\": \"2018-12-14T00:00:00\", \"Crimes\": 412}, {\"Incident Date\": \"2018-12-15T00:00:00\", \"Crimes\": 392}, {\"Incident Date\": \"2018-12-16T00:00:00\", \"Crimes\": 306}, {\"Incident Date\": \"2018-12-17T00:00:00\", \"Crimes\": 411}, {\"Incident Date\": \"2018-12-18T00:00:00\", \"Crimes\": 435}, {\"Incident Date\": \"2018-12-19T00:00:00\", \"Crimes\": 448}, {\"Incident Date\": \"2018-12-20T00:00:00\", \"Crimes\": 464}, {\"Incident Date\": \"2018-12-21T00:00:00\", \"Crimes\": 397}, {\"Incident Date\": \"2018-12-22T00:00:00\", \"Crimes\": 422}, {\"Incident Date\": \"2018-12-23T00:00:00\", \"Crimes\": 434}, {\"Incident Date\": \"2018-12-24T00:00:00\", \"Crimes\": 381}, {\"Incident Date\": \"2018-12-25T00:00:00\", \"Crimes\": 262}, {\"Incident Date\": \"2018-12-26T00:00:00\", \"Crimes\": 390}, {\"Incident Date\": \"2018-12-27T00:00:00\", \"Crimes\": 420}, {\"Incident Date\": \"2018-12-28T00:00:00\", \"Crimes\": 435}, {\"Incident Date\": \"2018-12-29T00:00:00\", \"Crimes\": 411}, {\"Incident Date\": \"2018-12-30T00:00:00\", \"Crimes\": 384}, {\"Incident Date\": \"2018-12-31T00:00:00\", \"Crimes\": 396}, {\"Incident Date\": \"2019-01-01T00:00:00\", \"Crimes\": 371}, {\"Incident Date\": \"2019-01-02T00:00:00\", \"Crimes\": 363}, {\"Incident Date\": \"2019-01-03T00:00:00\", \"Crimes\": 366}, {\"Incident Date\": \"2019-01-04T00:00:00\", \"Crimes\": 402}, {\"Incident Date\": \"2019-01-05T00:00:00\", \"Crimes\": 390}, {\"Incident Date\": \"2019-01-06T00:00:00\", \"Crimes\": 269}, {\"Incident Date\": \"2019-01-07T00:00:00\", \"Crimes\": 346}, {\"Incident Date\": \"2019-01-08T00:00:00\", \"Crimes\": 391}, {\"Incident Date\": \"2019-01-09T00:00:00\", \"Crimes\": 392}, {\"Incident Date\": \"2019-01-10T00:00:00\", \"Crimes\": 384}, {\"Incident Date\": \"2019-01-11T00:00:00\", \"Crimes\": 390}, {\"Incident Date\": \"2019-01-12T00:00:00\", \"Crimes\": 357}, {\"Incident Date\": \"2019-01-13T00:00:00\", \"Crimes\": 346}, {\"Incident Date\": \"2019-01-14T00:00:00\", \"Crimes\": 402}, {\"Incident Date\": \"2019-01-15T00:00:00\", \"Crimes\": 339}, {\"Incident Date\": \"2019-01-16T00:00:00\", \"Crimes\": 331}, {\"Incident Date\": \"2019-01-17T00:00:00\", \"Crimes\": 366}, {\"Incident Date\": \"2019-01-18T00:00:00\", \"Crimes\": 397}, {\"Incident Date\": \"2019-01-19T00:00:00\", \"Crimes\": 480}, {\"Incident Date\": \"2019-01-20T00:00:00\", \"Crimes\": 286}, {\"Incident Date\": \"2019-01-21T00:00:00\", \"Crimes\": 410}, {\"Incident Date\": \"2019-01-22T00:00:00\", \"Crimes\": 396}, {\"Incident Date\": \"2019-01-23T00:00:00\", \"Crimes\": 407}, {\"Incident Date\": \"2019-01-24T00:00:00\", \"Crimes\": 361}, {\"Incident Date\": \"2019-01-25T00:00:00\", \"Crimes\": 449}, {\"Incident Date\": \"2019-01-26T00:00:00\", \"Crimes\": 378}, {\"Incident Date\": \"2019-01-27T00:00:00\", \"Crimes\": 352}, {\"Incident Date\": \"2019-01-28T00:00:00\", \"Crimes\": 360}, {\"Incident Date\": \"2019-01-29T00:00:00\", \"Crimes\": 386}, {\"Incident Date\": \"2019-01-30T00:00:00\", \"Crimes\": 380}, {\"Incident Date\": \"2019-01-31T00:00:00\", \"Crimes\": 395}, {\"Incident Date\": \"2019-02-01T00:00:00\", \"Crimes\": 453}, {\"Incident Date\": \"2019-02-02T00:00:00\", \"Crimes\": 413}, {\"Incident Date\": \"2019-02-03T00:00:00\", \"Crimes\": 313}, {\"Incident Date\": \"2019-02-04T00:00:00\", \"Crimes\": 352}, {\"Incident Date\": \"2019-02-05T00:00:00\", \"Crimes\": 376}, {\"Incident Date\": \"2019-02-06T00:00:00\", \"Crimes\": 361}, {\"Incident Date\": \"2019-02-07T00:00:00\", \"Crimes\": 343}, {\"Incident Date\": \"2019-02-08T00:00:00\", \"Crimes\": 401}, {\"Incident Date\": \"2019-02-09T00:00:00\", \"Crimes\": 365}, {\"Incident Date\": \"2019-02-10T00:00:00\", \"Crimes\": 352}, {\"Incident Date\": \"2019-02-11T00:00:00\", \"Crimes\": 342}, {\"Incident Date\": \"2019-02-12T00:00:00\", \"Crimes\": 370}, {\"Incident Date\": \"2019-02-13T00:00:00\", \"Crimes\": 326}, {\"Incident Date\": \"2019-02-14T00:00:00\", \"Crimes\": 317}, {\"Incident Date\": \"2019-02-15T00:00:00\", \"Crimes\": 447}, {\"Incident Date\": \"2019-02-16T00:00:00\", \"Crimes\": 345}, {\"Incident Date\": \"2019-02-17T00:00:00\", \"Crimes\": 309}, {\"Incident Date\": \"2019-02-18T00:00:00\", \"Crimes\": 334}, {\"Incident Date\": \"2019-02-19T00:00:00\", \"Crimes\": 384}, {\"Incident Date\": \"2019-02-20T00:00:00\", \"Crimes\": 448}, {\"Incident Date\": \"2019-02-21T00:00:00\", \"Crimes\": 397}, {\"Incident Date\": \"2019-02-22T00:00:00\", \"Crimes\": 363}, {\"Incident Date\": \"2019-02-23T00:00:00\", \"Crimes\": 298}, {\"Incident Date\": \"2019-02-24T00:00:00\", \"Crimes\": 257}, {\"Incident Date\": \"2019-02-25T00:00:00\", \"Crimes\": 315}, {\"Incident Date\": \"2019-02-26T00:00:00\", \"Crimes\": 205}, {\"Incident Date\": \"2019-02-27T00:00:00\", \"Crimes\": 155}]}};\n",
       "var opt = {};\n",
       "var type = \"vega-lite\";\n",
       "var id = \"e5913b09-1825-4429-b65a-acdd7731ccae\";\n",
       "\n",
       "var output_area = this;\n",
       "\n",
       "require([\"nbextensions/jupyter-vega/index\"], function(vega) {\n",
       "  var target = document.createElement(\"div\");\n",
       "  target.id = id;\n",
       "  target.className = \"vega-embed\";\n",
       "\n",
       "  var style = document.createElement(\"style\");\n",
       "  style.textContent = [\n",
       "    \".vega-embed .error p {\",\n",
       "    \"  color: firebrick;\",\n",
       "    \"  font-size: 14px;\",\n",
       "    \"}\",\n",
       "  ].join(\"\\\\n\");\n",
       "\n",
       "  // element is a jQuery wrapped DOM element inside the output area\n",
       "  // see http://ipython.readthedocs.io/en/stable/api/generated/\\\n",
       "  // IPython.display.html#IPython.display.Javascript.__init__\n",
       "  element[0].appendChild(target);\n",
       "  element[0].appendChild(style);\n",
       "\n",
       "  vega.render(\"#\" + id, spec, type, opt, output_area);\n",
       "}, function (err) {\n",
       "  if (err.requireType !== \"scripterror\") {\n",
       "    throw(err);\n",
       "  }\n",
       "});\n"
      ],
      "text/plain": [
       "<vega.vegalite.VegaLite at 0x1171d3f60>"
      ]
     },
     "metadata": {
      "jupyter-vega": "#e5913b09-1825-4429-b65a-acdd7731ccae"
     },
     "output_type": "display_data"
    },
    {
     "data": {
      "text/plain": []
     },
     "execution_count": 12,
     "metadata": {},
     "output_type": "execute_result"
    },
    {
     "data": {
      "image/png": "[encoded data removed]"
     },
     "metadata": {
      "jupyter-vega": "#e5913b09-1825-4429-b65a-acdd7731ccae"
     },
     "output_type": "display_data"
    }
   ],
   "source": [
    "incidents_by_day.rename(columns = {'Row ID' : 'Crimes'}, inplace = True)\n",
    "\n",
    "alt.Chart(incidents_by_day).mark_line().encode(x = 'Incident Date', y = 'Crimes')"
   ]
  },
  {
   "cell_type": "markdown",
   "metadata": {},
   "source": [
    "It's hard to see, but it looks like there is a dip in reported crimes near the end of our data collection period. We can get a closer look by creating a \"zoomed in\" look at the data. We are going to create the same chart as above, but this time filter for only those crimes reported in 2019 using the `dt.year` method to return only the year of the datetime object."
   ]
  },
  {
   "cell_type": "code",
   "execution_count": 13,
   "metadata": {},
   "outputs": [
    {
     "data": {
      "application/javascript": [
       "var spec = {\"config\": {\"view\": {\"width\": 400, \"height\": 300}}, \"data\": {\"name\": \"data-e289ad3a1801273794dbef83349c5845\"}, \"mark\": \"line\", \"encoding\": {\"x\": {\"type\": \"temporal\", \"field\": \"Incident Date\"}, \"y\": {\"type\": \"quantitative\", \"field\": \"Crimes\"}}, \"$schema\": \"https://vega.github.io/schema/vega-lite/v2.6.0.json\", \"datasets\": {\"data-e289ad3a1801273794dbef83349c5845\": [{\"Incident Date\": \"2019-01-01T00:00:00\", \"Crimes\": 371}, {\"Incident Date\": \"2019-01-02T00:00:00\", \"Crimes\": 363}, {\"Incident Date\": \"2019-01-03T00:00:00\", \"Crimes\": 366}, {\"Incident Date\": \"2019-01-04T00:00:00\", \"Crimes\": 402}, {\"Incident Date\": \"2019-01-05T00:00:00\", \"Crimes\": 390}, {\"Incident Date\": \"2019-01-06T00:00:00\", \"Crimes\": 269}, {\"Incident Date\": \"2019-01-07T00:00:00\", \"Crimes\": 346}, {\"Incident Date\": \"2019-01-08T00:00:00\", \"Crimes\": 391}, {\"Incident Date\": \"2019-01-09T00:00:00\", \"Crimes\": 392}, {\"Incident Date\": \"2019-01-10T00:00:00\", \"Crimes\": 384}, {\"Incident Date\": \"2019-01-11T00:00:00\", \"Crimes\": 390}, {\"Incident Date\": \"2019-01-12T00:00:00\", \"Crimes\": 357}, {\"Incident Date\": \"2019-01-13T00:00:00\", \"Crimes\": 346}, {\"Incident Date\": \"2019-01-14T00:00:00\", \"Crimes\": 402}, {\"Incident Date\": \"2019-01-15T00:00:00\", \"Crimes\": 339}, {\"Incident Date\": \"2019-01-16T00:00:00\", \"Crimes\": 331}, {\"Incident Date\": \"2019-01-17T00:00:00\", \"Crimes\": 366}, {\"Incident Date\": \"2019-01-18T00:00:00\", \"Crimes\": 397}, {\"Incident Date\": \"2019-01-19T00:00:00\", \"Crimes\": 480}, {\"Incident Date\": \"2019-01-20T00:00:00\", \"Crimes\": 286}, {\"Incident Date\": \"2019-01-21T00:00:00\", \"Crimes\": 410}, {\"Incident Date\": \"2019-01-22T00:00:00\", \"Crimes\": 396}, {\"Incident Date\": \"2019-01-23T00:00:00\", \"Crimes\": 407}, {\"Incident Date\": \"2019-01-24T00:00:00\", \"Crimes\": 361}, {\"Incident Date\": \"2019-01-25T00:00:00\", \"Crimes\": 449}, {\"Incident Date\": \"2019-01-26T00:00:00\", \"Crimes\": 378}, {\"Incident Date\": \"2019-01-27T00:00:00\", \"Crimes\": 352}, {\"Incident Date\": \"2019-01-28T00:00:00\", \"Crimes\": 360}, {\"Incident Date\": \"2019-01-29T00:00:00\", \"Crimes\": 386}, {\"Incident Date\": \"2019-01-30T00:00:00\", \"Crimes\": 380}, {\"Incident Date\": \"2019-01-31T00:00:00\", \"Crimes\": 395}, {\"Incident Date\": \"2019-02-01T00:00:00\", \"Crimes\": 453}, {\"Incident Date\": \"2019-02-02T00:00:00\", \"Crimes\": 413}, {\"Incident Date\": \"2019-02-03T00:00:00\", \"Crimes\": 313}, {\"Incident Date\": \"2019-02-04T00:00:00\", \"Crimes\": 352}, {\"Incident Date\": \"2019-02-05T00:00:00\", \"Crimes\": 376}, {\"Incident Date\": \"2019-02-06T00:00:00\", \"Crimes\": 361}, {\"Incident Date\": \"2019-02-07T00:00:00\", \"Crimes\": 343}, {\"Incident Date\": \"2019-02-08T00:00:00\", \"Crimes\": 401}, {\"Incident Date\": \"2019-02-09T00:00:00\", \"Crimes\": 365}, {\"Incident Date\": \"2019-02-10T00:00:00\", \"Crimes\": 352}, {\"Incident Date\": \"2019-02-11T00:00:00\", \"Crimes\": 342}, {\"Incident Date\": \"2019-02-12T00:00:00\", \"Crimes\": 370}, {\"Incident Date\": \"2019-02-13T00:00:00\", \"Crimes\": 326}, {\"Incident Date\": \"2019-02-14T00:00:00\", \"Crimes\": 317}, {\"Incident Date\": \"2019-02-15T00:00:00\", \"Crimes\": 447}, {\"Incident Date\": \"2019-02-16T00:00:00\", \"Crimes\": 345}, {\"Incident Date\": \"2019-02-17T00:00:00\", \"Crimes\": 309}, {\"Incident Date\": \"2019-02-18T00:00:00\", \"Crimes\": 334}, {\"Incident Date\": \"2019-02-19T00:00:00\", \"Crimes\": 384}, {\"Incident Date\": \"2019-02-20T00:00:00\", \"Crimes\": 448}, {\"Incident Date\": \"2019-02-21T00:00:00\", \"Crimes\": 397}, {\"Incident Date\": \"2019-02-22T00:00:00\", \"Crimes\": 363}, {\"Incident Date\": \"2019-02-23T00:00:00\", \"Crimes\": 298}, {\"Incident Date\": \"2019-02-24T00:00:00\", \"Crimes\": 257}, {\"Incident Date\": \"2019-02-25T00:00:00\", \"Crimes\": 315}, {\"Incident Date\": \"2019-02-26T00:00:00\", \"Crimes\": 205}, {\"Incident Date\": \"2019-02-27T00:00:00\", \"Crimes\": 155}]}};\n",
       "var opt = {};\n",
       "var type = \"vega-lite\";\n",
       "var id = \"32eabb84-9dd3-4d0a-876c-6a9b1399dfa2\";\n",
       "\n",
       "var output_area = this;\n",
       "\n",
       "require([\"nbextensions/jupyter-vega/index\"], function(vega) {\n",
       "  var target = document.createElement(\"div\");\n",
       "  target.id = id;\n",
       "  target.className = \"vega-embed\";\n",
       "\n",
       "  var style = document.createElement(\"style\");\n",
       "  style.textContent = [\n",
       "    \".vega-embed .error p {\",\n",
       "    \"  color: firebrick;\",\n",
       "    \"  font-size: 14px;\",\n",
       "    \"}\",\n",
       "  ].join(\"\\\\n\");\n",
       "\n",
       "  // element is a jQuery wrapped DOM element inside the output area\n",
       "  // see http://ipython.readthedocs.io/en/stable/api/generated/\\\n",
       "  // IPython.display.html#IPython.display.Javascript.__init__\n",
       "  element[0].appendChild(target);\n",
       "  element[0].appendChild(style);\n",
       "\n",
       "  vega.render(\"#\" + id, spec, type, opt, output_area);\n",
       "}, function (err) {\n",
       "  if (err.requireType !== \"scripterror\") {\n",
       "    throw(err);\n",
       "  }\n",
       "});\n"
      ],
      "text/plain": [
       "<vega.vegalite.VegaLite at 0x111177748>"
      ]
     },
     "metadata": {
      "jupyter-vega": "#32eabb84-9dd3-4d0a-876c-6a9b1399dfa2"
     },
     "output_type": "display_data"
    },
    {
     "data": {
      "text/plain": []
     },
     "execution_count": 13,
     "metadata": {},
     "output_type": "execute_result"
    },
    {
     "data": {
      "image/png": "[encoded data removed]"
     },
     "metadata": {
      "jupyter-vega": "#32eabb84-9dd3-4d0a-876c-6a9b1399dfa2"
     },
     "output_type": "display_data"
    }
   ],
   "source": [
    "alt.Chart(\n",
    "    incidents_by_day[incidents_by_day['Incident Date'].dt.year == 2019]\n",
    "    ).mark_line(\n",
    "    ).encode(\n",
    "        x = 'Incident Date', \n",
    "        y = 'Crimes'\n",
    "    )"
   ]
  },
  {
   "cell_type": "markdown",
   "metadata": {},
   "source": [
    "It's immediately clear that there is a lag in data collection for the last few days in February. We should probably correct for that by excluding at least February. In this case we are going to filter our data so we are only dealing with 2018 crimes."
   ]
  },
  {
   "cell_type": "code",
   "execution_count": 14,
   "metadata": {},
   "outputs": [],
   "source": [
    "incidents = incidents[incidents['Incident Date'].dt.year == 2018]"
   ]
  },
  {
   "cell_type": "markdown",
   "metadata": {},
   "source": [
    "## Now a little bit of cleaning\n",
    "\n",
    "Let's make some changes to the data so it's a little bit easier to work with. Let's start with converting two other date fields into datetime objects in case we want to work with those fields. The first field is the `Incident Datetime` field. The second is the `Report Datetime` field. We won't work with these fields too much here, but it allows us to do things like check how long it was between when an incident occurred and when a report was filed.\n",
    "\n",
    "To do this we are going to use Pandas' built-in `to_datetime` function. We need to pass in the column that contains the date information. We also need to specify what format the date is in using the `format` keyword argument. For more information on how to code the formats see this [documentation](https://docs.python.org/2/library/datetime.html#strftime-and-strptime-behavior)."
   ]
  },
  {
   "cell_type": "code",
   "execution_count": 15,
   "metadata": {},
   "outputs": [
    {
     "data": {
      "text/html": [
       "<div>\n",
       "<style scoped>\n",
       "    .dataframe tbody tr th:only-of-type {\n",
       "        vertical-align: middle;\n",
       "    }\n",
       "\n",
       "    .dataframe tbody tr th {\n",
       "        vertical-align: top;\n",
       "    }\n",
       "\n",
       "    .dataframe thead th {\n",
       "        text-align: right;\n",
       "    }\n",
       "</style>\n",
       "<table border=\"1\" class=\"dataframe\">\n",
       "  <thead>\n",
       "    <tr style=\"text-align: right;\">\n",
       "      <th></th>\n",
       "      <th>Incident Datetime</th>\n",
       "      <th>incident_timestamp</th>\n",
       "    </tr>\n",
       "  </thead>\n",
       "  <tbody>\n",
       "    <tr>\n",
       "      <th>0</th>\n",
       "      <td>2018/10/22 10:50:00 AM</td>\n",
       "      <td>2018-10-22 10:50:00</td>\n",
       "    </tr>\n",
       "    <tr>\n",
       "      <th>1</th>\n",
       "      <td>2018/08/24 02:50:00 PM</td>\n",
       "      <td>2018-08-24 14:50:00</td>\n",
       "    </tr>\n",
       "    <tr>\n",
       "      <th>2</th>\n",
       "      <td>2018/10/14 02:54:00 PM</td>\n",
       "      <td>2018-10-14 14:54:00</td>\n",
       "    </tr>\n",
       "    <tr>\n",
       "      <th>3</th>\n",
       "      <td>2018/10/14 02:54:00 PM</td>\n",
       "      <td>2018-10-14 14:54:00</td>\n",
       "    </tr>\n",
       "    <tr>\n",
       "      <th>4</th>\n",
       "      <td>2018/10/18 04:40:00 PM</td>\n",
       "      <td>2018-10-18 16:40:00</td>\n",
       "    </tr>\n",
       "  </tbody>\n",
       "</table>\n",
       "</div>"
      ],
      "text/plain": [
       "        Incident Datetime  incident_timestamp\n",
       "0  2018/10/22 10:50:00 AM 2018-10-22 10:50:00\n",
       "1  2018/08/24 02:50:00 PM 2018-08-24 14:50:00\n",
       "2  2018/10/14 02:54:00 PM 2018-10-14 14:54:00\n",
       "3  2018/10/14 02:54:00 PM 2018-10-14 14:54:00\n",
       "4  2018/10/18 04:40:00 PM 2018-10-18 16:40:00"
      ]
     },
     "execution_count": 15,
     "metadata": {},
     "output_type": "execute_result"
    }
   ],
   "source": [
    "incidents['incident_timestamp'] = pd.to_datetime(incidents['Incident Datetime'], format = '%Y/%m/%d %I:%M:%S %p')\n",
    "incidents[['Incident Datetime', 'incident_timestamp']].head()"
   ]
  },
  {
   "cell_type": "code",
   "execution_count": 16,
   "metadata": {},
   "outputs": [
    {
     "data": {
      "text/html": [
       "<div>\n",
       "<style scoped>\n",
       "    .dataframe tbody tr th:only-of-type {\n",
       "        vertical-align: middle;\n",
       "    }\n",
       "\n",
       "    .dataframe tbody tr th {\n",
       "        vertical-align: top;\n",
       "    }\n",
       "\n",
       "    .dataframe thead th {\n",
       "        text-align: right;\n",
       "    }\n",
       "</style>\n",
       "<table border=\"1\" class=\"dataframe\">\n",
       "  <thead>\n",
       "    <tr style=\"text-align: right;\">\n",
       "      <th></th>\n",
       "      <th>Report Datetime</th>\n",
       "      <th>report_timestamp</th>\n",
       "    </tr>\n",
       "  </thead>\n",
       "  <tbody>\n",
       "    <tr>\n",
       "      <th>0</th>\n",
       "      <td>2018/10/22 11:24:00 AM</td>\n",
       "      <td>2018-10-22 11:24:00</td>\n",
       "    </tr>\n",
       "    <tr>\n",
       "      <th>1</th>\n",
       "      <td>2018/08/24 02:52:00 PM</td>\n",
       "      <td>2018-08-24 14:52:00</td>\n",
       "    </tr>\n",
       "    <tr>\n",
       "      <th>2</th>\n",
       "      <td>2018/10/24 01:10:00 PM</td>\n",
       "      <td>2018-10-24 13:10:00</td>\n",
       "    </tr>\n",
       "    <tr>\n",
       "      <th>3</th>\n",
       "      <td>2018/10/24 01:10:00 PM</td>\n",
       "      <td>2018-10-24 13:10:00</td>\n",
       "    </tr>\n",
       "    <tr>\n",
       "      <th>4</th>\n",
       "      <td>2018/10/26 07:42:00 AM</td>\n",
       "      <td>2018-10-26 07:42:00</td>\n",
       "    </tr>\n",
       "  </tbody>\n",
       "</table>\n",
       "</div>"
      ],
      "text/plain": [
       "          Report Datetime    report_timestamp\n",
       "0  2018/10/22 11:24:00 AM 2018-10-22 11:24:00\n",
       "1  2018/08/24 02:52:00 PM 2018-08-24 14:52:00\n",
       "2  2018/10/24 01:10:00 PM 2018-10-24 13:10:00\n",
       "3  2018/10/24 01:10:00 PM 2018-10-24 13:10:00\n",
       "4  2018/10/26 07:42:00 AM 2018-10-26 07:42:00"
      ]
     },
     "execution_count": 16,
     "metadata": {},
     "output_type": "execute_result"
    }
   ],
   "source": [
    "incidents['report_timestamp'] = pd.to_datetime(incidents['Report Datetime'], format = '%Y/%m/%d %I:%M:%S %p')\n",
    "incidents[['Report Datetime', 'report_timestamp']].head()"
   ]
  },
  {
   "cell_type": "markdown",
   "metadata": {},
   "source": [
    "There is also a `Resolution` column which indicates the status of the crime at the time the report was created. It's important to note that this data does not appear to reflect the results of any investigation after the initial report was created. However, we can still use this to create a `case_status` column to show the status of the case at the time of the filing. Let's start by seeing what the unique value in the `Resolution` field are."
   ]
  },
  {
   "cell_type": "code",
   "execution_count": 17,
   "metadata": {},
   "outputs": [
    {
     "data": {
      "text/plain": [
       "array(['Open or Active', 'Cite or Arrest Adult', 'Unfounded',\n",
       "       'Exceptional Adult', 'Cite or Arrest Juvenile',\n",
       "       'Exceptional Juvenile'], dtype=object)"
      ]
     },
     "execution_count": 17,
     "metadata": {},
     "output_type": "execute_result"
    }
   ],
   "source": [
    "incidents['Resolution'].unique()"
   ]
  },
  {
   "cell_type": "markdown",
   "metadata": {},
   "source": [
    "Uhoh. One of the possible values for the `Resolution` column is `Unfounded` which means the responding officer found no crime at the incident. You may find value in this depending on what the goal of your analysis is, but in this case we should probably filter that out of our dataset."
   ]
  },
  {
   "cell_type": "code",
   "execution_count": 18,
   "metadata": {},
   "outputs": [],
   "source": [
    "incidents = incidents[incidents['Resolution'] != 'Unfounded']"
   ]
  },
  {
   "cell_type": "markdown",
   "metadata": {},
   "source": [
    "Ok now that we have done that we can start coding our `case_status` column. We will take advantage of Pandas' `.loc` function to target specific columns and rows in the data set.\n",
    "\n",
    "The `.loc` function works in this case by passing in what we want to filter rows by along with which column we want to alter. First let's create the column and assign null values to it using numpy's `nan`."
   ]
  },
  {
   "cell_type": "code",
   "execution_count": 19,
   "metadata": {},
   "outputs": [
    {
     "data": {
      "text/plain": [
       "0   NaN\n",
       "1   NaN\n",
       "2   NaN\n",
       "3   NaN\n",
       "4   NaN\n",
       "Name: case_status, dtype: float64"
      ]
     },
     "execution_count": 19,
     "metadata": {},
     "output_type": "execute_result"
    }
   ],
   "source": [
    "incidents['case_status'] = np.nan\n",
    "incidents['case_status'].head()"
   ]
  },
  {
   "cell_type": "markdown",
   "metadata": {},
   "source": [
    "Now let's code in open vs closed cases."
   ]
  },
  {
   "cell_type": "code",
   "execution_count": 20,
   "metadata": {},
   "outputs": [
    {
     "data": {
      "text/plain": [
       "0    Open\n",
       "1    Open\n",
       "2    Open\n",
       "3    Open\n",
       "4     NaN\n",
       "Name: case_status, dtype: object"
      ]
     },
     "execution_count": 20,
     "metadata": {},
     "output_type": "execute_result"
    }
   ],
   "source": [
    "incidents.loc[incidents['Resolution'] == 'Open or Active', 'case_status'] = 'Open'\n",
    "incidents['case_status'].head()"
   ]
  },
  {
   "cell_type": "markdown",
   "metadata": {},
   "source": [
    "We're halfway there - we still have `NaN` values for cases that were closed. Rather than use the `.loc` method we can take a simpler approach by replacing `NaN` values with `closed`"
   ]
  },
  {
   "cell_type": "code",
   "execution_count": 21,
   "metadata": {},
   "outputs": [
    {
     "data": {
      "text/plain": [
       "0      Open\n",
       "1      Open\n",
       "2      Open\n",
       "3      Open\n",
       "4    Closed\n",
       "Name: case_status, dtype: object"
      ]
     },
     "execution_count": 21,
     "metadata": {},
     "output_type": "execute_result"
    }
   ],
   "source": [
    "incidents['case_status'].fillna('Closed', inplace = True)\n",
    "incidents['case_status'].head()"
   ]
  },
  {
   "cell_type": "markdown",
   "metadata": {},
   "source": [
    "## Digging in with some analysis\n",
    "\n",
    "Let's start by finding out what crimes are reported in this data and which ones are the most common."
   ]
  },
  {
   "cell_type": "code",
   "execution_count": 22,
   "metadata": {},
   "outputs": [
    {
     "data": {
      "text/plain": [
       "array(['Burglary', 'Missing Person', 'Larceny Theft', 'Suspicious Occ',\n",
       "       'Drug Offense', 'Traffic Violation Arrest', 'Non-Criminal',\n",
       "       'Other Miscellaneous', 'Robbery', 'Assault', 'Malicious Mischief',\n",
       "       'Miscellaneous Investigation', 'Lost Property',\n",
       "       'Vehicle Impounded', 'Other', 'Motor Vehicle Theft', 'Fraud',\n",
       "       'Offences Against The Family And Children', 'Weapons Carrying Etc',\n",
       "       'Drug Violation', 'Warrant', 'Prostitution', 'Rape',\n",
       "       'Embezzlement', 'Civil Sidewalks', 'Other Offenses',\n",
       "       'Case Closure', 'Recovered Vehicle', 'Disorderly Conduct',\n",
       "       'Forgery And Counterfeiting', 'Weapons Offense', 'Stolen Property',\n",
       "       'Arson', 'Family Offense', 'Sex Offense', 'Juvenile Offenses',\n",
       "       'Courtesy Report', 'Vandalism', 'Traffic Collision', 'Liquor Laws',\n",
       "       'Fire Report', 'Vehicle Misplaced', 'Weapons Offence', 'Homicide',\n",
       "       'Suicide', 'Suspicious', 'Motor Vehicle Theft?',\n",
       "       'Human Trafficking (A), Commercial Sex Acts', nan,\n",
       "       'Human Trafficking, Commercial Sex Acts', 'Gambling'], dtype=object)"
      ]
     },
     "execution_count": 22,
     "metadata": {},
     "output_type": "execute_result"
    }
   ],
   "source": [
    "incidents['Incident Category'].unique()"
   ]
  },
  {
   "cell_type": "markdown",
   "metadata": {},
   "source": [
    "Oops. There are `NaN` values in this column as well. Let's get an idea of how often that occurs."
   ]
  },
  {
   "cell_type": "code",
   "execution_count": 23,
   "metadata": {},
   "outputs": [
    {
     "data": {
      "text/plain": [
       "15"
      ]
     },
     "execution_count": 23,
     "metadata": {},
     "output_type": "execute_result"
    }
   ],
   "source": [
    "incidents.loc[incidents['Incident Category'].isna() == True, 'Row ID'].count()"
   ]
  },
  {
   "cell_type": "markdown",
   "metadata": {},
   "source": [
    "Ok good, there are only 15 crimes where this is true. We could filter this out but by default Pandas should exclude these from most of the functions we use to analyze the data. Let's get an idea of the ten most common crimes."
   ]
  },
  {
   "cell_type": "code",
   "execution_count": 24,
   "metadata": {},
   "outputs": [
    {
     "data": {
      "text/html": [
       "<div>\n",
       "<style scoped>\n",
       "    .dataframe tbody tr th:only-of-type {\n",
       "        vertical-align: middle;\n",
       "    }\n",
       "\n",
       "    .dataframe tbody tr th {\n",
       "        vertical-align: top;\n",
       "    }\n",
       "\n",
       "    .dataframe thead th {\n",
       "        text-align: right;\n",
       "    }\n",
       "</style>\n",
       "<table border=\"1\" class=\"dataframe\">\n",
       "  <thead>\n",
       "    <tr style=\"text-align: right;\">\n",
       "      <th></th>\n",
       "      <th>Incident Category</th>\n",
       "      <th>Crimes</th>\n",
       "    </tr>\n",
       "  </thead>\n",
       "  <tbody>\n",
       "    <tr>\n",
       "      <th>19</th>\n",
       "      <td>Larceny Theft</td>\n",
       "      <td>48699</td>\n",
       "    </tr>\n",
       "    <tr>\n",
       "      <th>30</th>\n",
       "      <td>Other Miscellaneous</td>\n",
       "      <td>11951</td>\n",
       "    </tr>\n",
       "    <tr>\n",
       "      <th>27</th>\n",
       "      <td>Non-Criminal</td>\n",
       "      <td>9477</td>\n",
       "    </tr>\n",
       "    <tr>\n",
       "      <th>1</th>\n",
       "      <td>Assault</td>\n",
       "      <td>9092</td>\n",
       "    </tr>\n",
       "    <tr>\n",
       "      <th>22</th>\n",
       "      <td>Malicious Mischief</td>\n",
       "      <td>8855</td>\n",
       "    </tr>\n",
       "    <tr>\n",
       "      <th>2</th>\n",
       "      <td>Burglary</td>\n",
       "      <td>7109</td>\n",
       "    </tr>\n",
       "    <tr>\n",
       "      <th>21</th>\n",
       "      <td>Lost Property</td>\n",
       "      <td>5697</td>\n",
       "    </tr>\n",
       "    <tr>\n",
       "      <th>46</th>\n",
       "      <td>Warrant</td>\n",
       "      <td>5653</td>\n",
       "    </tr>\n",
       "    <tr>\n",
       "      <th>25</th>\n",
       "      <td>Motor Vehicle Theft</td>\n",
       "      <td>5265</td>\n",
       "    </tr>\n",
       "    <tr>\n",
       "      <th>24</th>\n",
       "      <td>Missing Person</td>\n",
       "      <td>4430</td>\n",
       "    </tr>\n",
       "  </tbody>\n",
       "</table>\n",
       "</div>"
      ],
      "text/plain": [
       "      Incident Category  Crimes\n",
       "19        Larceny Theft   48699\n",
       "30  Other Miscellaneous   11951\n",
       "27         Non-Criminal    9477\n",
       "1               Assault    9092\n",
       "22   Malicious Mischief    8855\n",
       "2              Burglary    7109\n",
       "21        Lost Property    5697\n",
       "46              Warrant    5653\n",
       "25  Motor Vehicle Theft    5265\n",
       "24       Missing Person    4430"
      ]
     },
     "execution_count": 24,
     "metadata": {},
     "output_type": "execute_result"
    }
   ],
   "source": [
    "crime_count = incidents[['Incident Category', 'Row ID']].groupby('Incident Category', as_index = False).count()\n",
    "crime_count.rename(columns = {'Row ID' : 'Crimes'}, inplace = True)\n",
    "\n",
    "crime_count.sort_values('Crimes', ascending = False).head(10)"
   ]
  },
  {
   "cell_type": "markdown",
   "metadata": {},
   "source": [
    "We can also check to see how often crimes are closed at the time the report was filed using a pivot table. While we are at it, let's calculate each incident category's percentage of all crimes."
   ]
  },
  {
   "cell_type": "code",
   "execution_count": 25,
   "metadata": {},
   "outputs": [
    {
     "data": {
      "text/html": [
       "<div>\n",
       "<style scoped>\n",
       "    .dataframe tbody tr th:only-of-type {\n",
       "        vertical-align: middle;\n",
       "    }\n",
       "\n",
       "    .dataframe tbody tr th {\n",
       "        vertical-align: top;\n",
       "    }\n",
       "\n",
       "    .dataframe thead th {\n",
       "        text-align: right;\n",
       "    }\n",
       "</style>\n",
       "<table border=\"1\" class=\"dataframe\">\n",
       "  <thead>\n",
       "    <tr style=\"text-align: right;\">\n",
       "      <th></th>\n",
       "      <th>Incident Category</th>\n",
       "      <th>Closed</th>\n",
       "      <th>Open</th>\n",
       "      <th>Total</th>\n",
       "    </tr>\n",
       "  </thead>\n",
       "  <tbody>\n",
       "    <tr>\n",
       "      <th>0</th>\n",
       "      <td>Arson</td>\n",
       "      <td>93.0</td>\n",
       "      <td>265.0</td>\n",
       "      <td>358</td>\n",
       "    </tr>\n",
       "    <tr>\n",
       "      <th>1</th>\n",
       "      <td>Assault</td>\n",
       "      <td>3045.0</td>\n",
       "      <td>6047.0</td>\n",
       "      <td>9092</td>\n",
       "    </tr>\n",
       "    <tr>\n",
       "      <th>2</th>\n",
       "      <td>Burglary</td>\n",
       "      <td>1088.0</td>\n",
       "      <td>6021.0</td>\n",
       "      <td>7109</td>\n",
       "    </tr>\n",
       "    <tr>\n",
       "      <th>3</th>\n",
       "      <td>Case Closure</td>\n",
       "      <td>382.0</td>\n",
       "      <td>13.0</td>\n",
       "      <td>395</td>\n",
       "    </tr>\n",
       "    <tr>\n",
       "      <th>4</th>\n",
       "      <td>Civil Sidewalks</td>\n",
       "      <td>375.0</td>\n",
       "      <td>126.0</td>\n",
       "      <td>501</td>\n",
       "    </tr>\n",
       "    <tr>\n",
       "      <th>5</th>\n",
       "      <td>Courtesy Report</td>\n",
       "      <td>27.0</td>\n",
       "      <td>372.0</td>\n",
       "      <td>399</td>\n",
       "    </tr>\n",
       "    <tr>\n",
       "      <th>6</th>\n",
       "      <td>Disorderly Conduct</td>\n",
       "      <td>883.0</td>\n",
       "      <td>1645.0</td>\n",
       "      <td>2528</td>\n",
       "    </tr>\n",
       "    <tr>\n",
       "      <th>7</th>\n",
       "      <td>Drug Offense</td>\n",
       "      <td>3813.0</td>\n",
       "      <td>310.0</td>\n",
       "      <td>4123</td>\n",
       "    </tr>\n",
       "    <tr>\n",
       "      <th>8</th>\n",
       "      <td>Drug Violation</td>\n",
       "      <td>54.0</td>\n",
       "      <td>1.0</td>\n",
       "      <td>55</td>\n",
       "    </tr>\n",
       "    <tr>\n",
       "      <th>9</th>\n",
       "      <td>Embezzlement</td>\n",
       "      <td>26.0</td>\n",
       "      <td>166.0</td>\n",
       "      <td>192</td>\n",
       "    </tr>\n",
       "    <tr>\n",
       "      <th>10</th>\n",
       "      <td>Family Offense</td>\n",
       "      <td>112.0</td>\n",
       "      <td>89.0</td>\n",
       "      <td>201</td>\n",
       "    </tr>\n",
       "    <tr>\n",
       "      <th>11</th>\n",
       "      <td>Fire Report</td>\n",
       "      <td>NaN</td>\n",
       "      <td>146.0</td>\n",
       "      <td>146</td>\n",
       "    </tr>\n",
       "    <tr>\n",
       "      <th>12</th>\n",
       "      <td>Forgery And Counterfeiting</td>\n",
       "      <td>207.0</td>\n",
       "      <td>448.0</td>\n",
       "      <td>655</td>\n",
       "    </tr>\n",
       "    <tr>\n",
       "      <th>13</th>\n",
       "      <td>Fraud</td>\n",
       "      <td>186.0</td>\n",
       "      <td>4208.0</td>\n",
       "      <td>4394</td>\n",
       "    </tr>\n",
       "    <tr>\n",
       "      <th>14</th>\n",
       "      <td>Gambling</td>\n",
       "      <td>13.0</td>\n",
       "      <td>1.0</td>\n",
       "      <td>14</td>\n",
       "    </tr>\n",
       "    <tr>\n",
       "      <th>15</th>\n",
       "      <td>Homicide</td>\n",
       "      <td>14.0</td>\n",
       "      <td>10.0</td>\n",
       "      <td>24</td>\n",
       "    </tr>\n",
       "    <tr>\n",
       "      <th>16</th>\n",
       "      <td>Human Trafficking (A), Commercial Sex Acts</td>\n",
       "      <td>64.0</td>\n",
       "      <td>21.0</td>\n",
       "      <td>85</td>\n",
       "    </tr>\n",
       "    <tr>\n",
       "      <th>17</th>\n",
       "      <td>Human Trafficking, Commercial Sex Acts</td>\n",
       "      <td>2.0</td>\n",
       "      <td>2.0</td>\n",
       "      <td>4</td>\n",
       "    </tr>\n",
       "    <tr>\n",
       "      <th>18</th>\n",
       "      <td>Juvenile Offenses</td>\n",
       "      <td>20.0</td>\n",
       "      <td>232.0</td>\n",
       "      <td>252</td>\n",
       "    </tr>\n",
       "    <tr>\n",
       "      <th>19</th>\n",
       "      <td>Larceny Theft</td>\n",
       "      <td>2286.0</td>\n",
       "      <td>46413.0</td>\n",
       "      <td>48699</td>\n",
       "    </tr>\n",
       "    <tr>\n",
       "      <th>20</th>\n",
       "      <td>Liquor Laws</td>\n",
       "      <td>35.0</td>\n",
       "      <td>6.0</td>\n",
       "      <td>41</td>\n",
       "    </tr>\n",
       "    <tr>\n",
       "      <th>21</th>\n",
       "      <td>Lost Property</td>\n",
       "      <td>16.0</td>\n",
       "      <td>5681.0</td>\n",
       "      <td>5697</td>\n",
       "    </tr>\n",
       "    <tr>\n",
       "      <th>22</th>\n",
       "      <td>Malicious Mischief</td>\n",
       "      <td>1069.0</td>\n",
       "      <td>7786.0</td>\n",
       "      <td>8855</td>\n",
       "    </tr>\n",
       "    <tr>\n",
       "      <th>23</th>\n",
       "      <td>Miscellaneous Investigation</td>\n",
       "      <td>54.0</td>\n",
       "      <td>1217.0</td>\n",
       "      <td>1271</td>\n",
       "    </tr>\n",
       "    <tr>\n",
       "      <th>24</th>\n",
       "      <td>Missing Person</td>\n",
       "      <td>167.0</td>\n",
       "      <td>4263.0</td>\n",
       "      <td>4430</td>\n",
       "    </tr>\n",
       "    <tr>\n",
       "      <th>25</th>\n",
       "      <td>Motor Vehicle Theft</td>\n",
       "      <td>277.0</td>\n",
       "      <td>4988.0</td>\n",
       "      <td>5265</td>\n",
       "    </tr>\n",
       "    <tr>\n",
       "      <th>26</th>\n",
       "      <td>Motor Vehicle Theft?</td>\n",
       "      <td>23.0</td>\n",
       "      <td>7.0</td>\n",
       "      <td>30</td>\n",
       "    </tr>\n",
       "    <tr>\n",
       "      <th>27</th>\n",
       "      <td>Non-Criminal</td>\n",
       "      <td>1073.0</td>\n",
       "      <td>8404.0</td>\n",
       "      <td>9477</td>\n",
       "    </tr>\n",
       "    <tr>\n",
       "      <th>28</th>\n",
       "      <td>Offences Against The Family And Children</td>\n",
       "      <td>1495.0</td>\n",
       "      <td>1908.0</td>\n",
       "      <td>3403</td>\n",
       "    </tr>\n",
       "    <tr>\n",
       "      <th>29</th>\n",
       "      <td>Other</td>\n",
       "      <td>5.0</td>\n",
       "      <td>879.0</td>\n",
       "      <td>884</td>\n",
       "    </tr>\n",
       "    <tr>\n",
       "      <th>30</th>\n",
       "      <td>Other Miscellaneous</td>\n",
       "      <td>7804.0</td>\n",
       "      <td>4147.0</td>\n",
       "      <td>11951</td>\n",
       "    </tr>\n",
       "    <tr>\n",
       "      <th>31</th>\n",
       "      <td>Other Offenses</td>\n",
       "      <td>613.0</td>\n",
       "      <td>509.0</td>\n",
       "      <td>1122</td>\n",
       "    </tr>\n",
       "    <tr>\n",
       "      <th>32</th>\n",
       "      <td>Prostitution</td>\n",
       "      <td>353.0</td>\n",
       "      <td>27.0</td>\n",
       "      <td>380</td>\n",
       "    </tr>\n",
       "    <tr>\n",
       "      <th>33</th>\n",
       "      <td>Rape</td>\n",
       "      <td>5.0</td>\n",
       "      <td>45.0</td>\n",
       "      <td>50</td>\n",
       "    </tr>\n",
       "    <tr>\n",
       "      <th>34</th>\n",
       "      <td>Recovered Vehicle</td>\n",
       "      <td>438.0</td>\n",
       "      <td>3841.0</td>\n",
       "      <td>4279</td>\n",
       "    </tr>\n",
       "    <tr>\n",
       "      <th>35</th>\n",
       "      <td>Robbery</td>\n",
       "      <td>933.0</td>\n",
       "      <td>2784.0</td>\n",
       "      <td>3717</td>\n",
       "    </tr>\n",
       "    <tr>\n",
       "      <th>36</th>\n",
       "      <td>Sex Offense</td>\n",
       "      <td>200.0</td>\n",
       "      <td>222.0</td>\n",
       "      <td>422</td>\n",
       "    </tr>\n",
       "    <tr>\n",
       "      <th>37</th>\n",
       "      <td>Stolen Property</td>\n",
       "      <td>696.0</td>\n",
       "      <td>100.0</td>\n",
       "      <td>796</td>\n",
       "    </tr>\n",
       "    <tr>\n",
       "      <th>38</th>\n",
       "      <td>Suicide</td>\n",
       "      <td>2.0</td>\n",
       "      <td>52.0</td>\n",
       "      <td>54</td>\n",
       "    </tr>\n",
       "    <tr>\n",
       "      <th>39</th>\n",
       "      <td>Suspicious</td>\n",
       "      <td>NaN</td>\n",
       "      <td>29.0</td>\n",
       "      <td>29</td>\n",
       "    </tr>\n",
       "    <tr>\n",
       "      <th>40</th>\n",
       "      <td>Suspicious Occ</td>\n",
       "      <td>59.0</td>\n",
       "      <td>2628.0</td>\n",
       "      <td>2687</td>\n",
       "    </tr>\n",
       "    <tr>\n",
       "      <th>41</th>\n",
       "      <td>Traffic Collision</td>\n",
       "      <td>118.0</td>\n",
       "      <td>139.0</td>\n",
       "      <td>257</td>\n",
       "    </tr>\n",
       "    <tr>\n",
       "      <th>42</th>\n",
       "      <td>Traffic Violation Arrest</td>\n",
       "      <td>2038.0</td>\n",
       "      <td>58.0</td>\n",
       "      <td>2096</td>\n",
       "    </tr>\n",
       "    <tr>\n",
       "      <th>43</th>\n",
       "      <td>Vandalism</td>\n",
       "      <td>87.0</td>\n",
       "      <td>89.0</td>\n",
       "      <td>176</td>\n",
       "    </tr>\n",
       "    <tr>\n",
       "      <th>44</th>\n",
       "      <td>Vehicle Impounded</td>\n",
       "      <td>46.0</td>\n",
       "      <td>41.0</td>\n",
       "      <td>87</td>\n",
       "    </tr>\n",
       "    <tr>\n",
       "      <th>45</th>\n",
       "      <td>Vehicle Misplaced</td>\n",
       "      <td>NaN</td>\n",
       "      <td>41.0</td>\n",
       "      <td>41</td>\n",
       "    </tr>\n",
       "    <tr>\n",
       "      <th>46</th>\n",
       "      <td>Warrant</td>\n",
       "      <td>5401.0</td>\n",
       "      <td>252.0</td>\n",
       "      <td>5653</td>\n",
       "    </tr>\n",
       "    <tr>\n",
       "      <th>47</th>\n",
       "      <td>Weapons Carrying Etc</td>\n",
       "      <td>802.0</td>\n",
       "      <td>69.0</td>\n",
       "      <td>871</td>\n",
       "    </tr>\n",
       "    <tr>\n",
       "      <th>48</th>\n",
       "      <td>Weapons Offence</td>\n",
       "      <td>5.0</td>\n",
       "      <td>NaN</td>\n",
       "      <td>5</td>\n",
       "    </tr>\n",
       "    <tr>\n",
       "      <th>49</th>\n",
       "      <td>Weapons Offense</td>\n",
       "      <td>374.0</td>\n",
       "      <td>396.0</td>\n",
       "      <td>770</td>\n",
       "    </tr>\n",
       "    <tr>\n",
       "      <th>50</th>\n",
       "      <td>Total</td>\n",
       "      <td>36878.0</td>\n",
       "      <td>117144.0</td>\n",
       "      <td>154022</td>\n",
       "    </tr>\n",
       "  </tbody>\n",
       "</table>\n",
       "</div>"
      ],
      "text/plain": [
       "                             Incident Category   Closed      Open   Total\n",
       "0                                        Arson     93.0     265.0     358\n",
       "1                                      Assault   3045.0    6047.0    9092\n",
       "2                                     Burglary   1088.0    6021.0    7109\n",
       "3                                 Case Closure    382.0      13.0     395\n",
       "4                              Civil Sidewalks    375.0     126.0     501\n",
       "5                              Courtesy Report     27.0     372.0     399\n",
       "6                           Disorderly Conduct    883.0    1645.0    2528\n",
       "7                                 Drug Offense   3813.0     310.0    4123\n",
       "8                               Drug Violation     54.0       1.0      55\n",
       "9                                 Embezzlement     26.0     166.0     192\n",
       "10                              Family Offense    112.0      89.0     201\n",
       "11                                 Fire Report      NaN     146.0     146\n",
       "12                  Forgery And Counterfeiting    207.0     448.0     655\n",
       "13                                       Fraud    186.0    4208.0    4394\n",
       "14                                    Gambling     13.0       1.0      14\n",
       "15                                    Homicide     14.0      10.0      24\n",
       "16  Human Trafficking (A), Commercial Sex Acts     64.0      21.0      85\n",
       "17      Human Trafficking, Commercial Sex Acts      2.0       2.0       4\n",
       "18                           Juvenile Offenses     20.0     232.0     252\n",
       "19                               Larceny Theft   2286.0   46413.0   48699\n",
       "20                                 Liquor Laws     35.0       6.0      41\n",
       "21                               Lost Property     16.0    5681.0    5697\n",
       "22                          Malicious Mischief   1069.0    7786.0    8855\n",
       "23                 Miscellaneous Investigation     54.0    1217.0    1271\n",
       "24                              Missing Person    167.0    4263.0    4430\n",
       "25                         Motor Vehicle Theft    277.0    4988.0    5265\n",
       "26                        Motor Vehicle Theft?     23.0       7.0      30\n",
       "27                                Non-Criminal   1073.0    8404.0    9477\n",
       "28    Offences Against The Family And Children   1495.0    1908.0    3403\n",
       "29                                       Other      5.0     879.0     884\n",
       "30                         Other Miscellaneous   7804.0    4147.0   11951\n",
       "31                              Other Offenses    613.0     509.0    1122\n",
       "32                                Prostitution    353.0      27.0     380\n",
       "33                                        Rape      5.0      45.0      50\n",
       "34                           Recovered Vehicle    438.0    3841.0    4279\n",
       "35                                     Robbery    933.0    2784.0    3717\n",
       "36                                 Sex Offense    200.0     222.0     422\n",
       "37                             Stolen Property    696.0     100.0     796\n",
       "38                                     Suicide      2.0      52.0      54\n",
       "39                                  Suspicious      NaN      29.0      29\n",
       "40                              Suspicious Occ     59.0    2628.0    2687\n",
       "41                           Traffic Collision    118.0     139.0     257\n",
       "42                    Traffic Violation Arrest   2038.0      58.0    2096\n",
       "43                                   Vandalism     87.0      89.0     176\n",
       "44                           Vehicle Impounded     46.0      41.0      87\n",
       "45                           Vehicle Misplaced      NaN      41.0      41\n",
       "46                                     Warrant   5401.0     252.0    5653\n",
       "47                        Weapons Carrying Etc    802.0      69.0     871\n",
       "48                             Weapons Offence      5.0       NaN       5\n",
       "49                             Weapons Offense    374.0     396.0     770\n",
       "50                                       Total  36878.0  117144.0  154022"
      ]
     },
     "execution_count": 25,
     "metadata": {},
     "output_type": "execute_result"
    }
   ],
   "source": [
    "status_by_crime = incidents.pivot_table(\n",
    "    index = 'Incident Category', \n",
    "    columns = 'case_status', \n",
    "    values = 'Row ID', \n",
    "    aggfunc = 'count', \n",
    "    margins = True, \n",
    "    margins_name = \"Total\"\n",
    ")\n",
    "\n",
    "status_by_crime = pd.DataFrame(status_by_crime.to_records())\n",
    "status_by_crime"
   ]
  },
  {
   "cell_type": "markdown",
   "metadata": {},
   "source": [
    "We now have some aggregated information about crimes. We also have a new column and a new row, both named `Total`. The row `Total` is useful, but we still want to strip it out after saving the total number of crimes figure."
   ]
  },
  {
   "cell_type": "code",
   "execution_count": 26,
   "metadata": {},
   "outputs": [],
   "source": [
    "total_crimes = status_by_crime.loc[status_by_crime['Incident Category'] == 'Total', 'Total'].values[0]\n",
    "\n",
    "# Drop the `Total` row by it's index in this case 50\n",
    "status_by_crime.drop(50, inplace = True)"
   ]
  },
  {
   "cell_type": "markdown",
   "metadata": {},
   "source": [
    "Let's calculate some rates."
   ]
  },
  {
   "cell_type": "code",
   "execution_count": 27,
   "metadata": {},
   "outputs": [
    {
     "data": {
      "text/html": [
       "<div>\n",
       "<style scoped>\n",
       "    .dataframe tbody tr th:only-of-type {\n",
       "        vertical-align: middle;\n",
       "    }\n",
       "\n",
       "    .dataframe tbody tr th {\n",
       "        vertical-align: top;\n",
       "    }\n",
       "\n",
       "    .dataframe thead th {\n",
       "        text-align: right;\n",
       "    }\n",
       "</style>\n",
       "<table border=\"1\" class=\"dataframe\">\n",
       "  <thead>\n",
       "    <tr style=\"text-align: right;\">\n",
       "      <th></th>\n",
       "      <th>Incident Category</th>\n",
       "      <th>Closed</th>\n",
       "      <th>Open</th>\n",
       "      <th>Total</th>\n",
       "      <th>closure_rate</th>\n",
       "      <th>percent_of_all_crimes</th>\n",
       "    </tr>\n",
       "  </thead>\n",
       "  <tbody>\n",
       "    <tr>\n",
       "      <th>0</th>\n",
       "      <td>Arson</td>\n",
       "      <td>93.0</td>\n",
       "      <td>265.0</td>\n",
       "      <td>358</td>\n",
       "      <td>25.977654</td>\n",
       "      <td>0.232434</td>\n",
       "    </tr>\n",
       "    <tr>\n",
       "      <th>1</th>\n",
       "      <td>Assault</td>\n",
       "      <td>3045.0</td>\n",
       "      <td>6047.0</td>\n",
       "      <td>9092</td>\n",
       "      <td>33.490981</td>\n",
       "      <td>5.903053</td>\n",
       "    </tr>\n",
       "    <tr>\n",
       "      <th>2</th>\n",
       "      <td>Burglary</td>\n",
       "      <td>1088.0</td>\n",
       "      <td>6021.0</td>\n",
       "      <td>7109</td>\n",
       "      <td>15.304544</td>\n",
       "      <td>4.615574</td>\n",
       "    </tr>\n",
       "    <tr>\n",
       "      <th>3</th>\n",
       "      <td>Case Closure</td>\n",
       "      <td>382.0</td>\n",
       "      <td>13.0</td>\n",
       "      <td>395</td>\n",
       "      <td>96.708861</td>\n",
       "      <td>0.256457</td>\n",
       "    </tr>\n",
       "    <tr>\n",
       "      <th>4</th>\n",
       "      <td>Civil Sidewalks</td>\n",
       "      <td>375.0</td>\n",
       "      <td>126.0</td>\n",
       "      <td>501</td>\n",
       "      <td>74.850299</td>\n",
       "      <td>0.325278</td>\n",
       "    </tr>\n",
       "  </tbody>\n",
       "</table>\n",
       "</div>"
      ],
      "text/plain": [
       "  Incident Category  Closed    Open  Total  closure_rate  \\\n",
       "0             Arson    93.0   265.0    358     25.977654   \n",
       "1           Assault  3045.0  6047.0   9092     33.490981   \n",
       "2          Burglary  1088.0  6021.0   7109     15.304544   \n",
       "3      Case Closure   382.0    13.0    395     96.708861   \n",
       "4   Civil Sidewalks   375.0   126.0    501     74.850299   \n",
       "\n",
       "   percent_of_all_crimes  \n",
       "0               0.232434  \n",
       "1               5.903053  \n",
       "2               4.615574  \n",
       "3               0.256457  \n",
       "4               0.325278  "
      ]
     },
     "execution_count": 27,
     "metadata": {},
     "output_type": "execute_result"
    }
   ],
   "source": [
    "# First a `closure_rate`\n",
    "\n",
    "status_by_crime['closure_rate'] = (status_by_crime['Closed'] / status_by_crime['Total']) * 100.0\n",
    "\n",
    "# And then a percent of total crimes\n",
    "\n",
    "status_by_crime['percent_of_all_crimes'] = (status_by_crime['Total'] / total_crimes) * 100.0\n",
    "\n",
    "status_by_crime.head()"
   ]
  },
  {
   "cell_type": "markdown",
   "metadata": {},
   "source": [
    "Let's try some charting in Altair and make a scatter plot comparing closure rates to crime percentage."
   ]
  },
  {
   "cell_type": "code",
   "execution_count": 28,
   "metadata": {},
   "outputs": [
    {
     "data": {
      "application/javascript": [
       "var spec = {\"config\": {\"view\": {\"width\": 400, \"height\": 300}}, \"data\": {\"name\": \"data-33684d204d0ddaa7c192d7c85ff0a26c\"}, \"mark\": \"point\", \"encoding\": {\"x\": {\"type\": \"quantitative\", \"field\": \"percent_of_all_crimes\"}, \"y\": {\"type\": \"quantitative\", \"field\": \"closure_rate\"}}, \"$schema\": \"https://vega.github.io/schema/vega-lite/v2.6.0.json\", \"datasets\": {\"data-33684d204d0ddaa7c192d7c85ff0a26c\": [{\"Incident Category\": \"Arson\", \"Closed\": 93.0, \"Open\": 265.0, \"Total\": 358, \"closure_rate\": 25.977653631284912, \"percent_of_all_crimes\": 0.2324343275635948}, {\"Incident Category\": \"Assault\", \"Closed\": 3045.0, \"Open\": 6047.0, \"Total\": 9092, \"closure_rate\": 33.490981082270125, \"percent_of_all_crimes\": 5.903052810637441}, {\"Incident Category\": \"Burglary\", \"Closed\": 1088.0, \"Open\": 6021.0, \"Total\": 7109, \"closure_rate\": 15.304543536362358, \"percent_of_all_crimes\": 4.615574398462558}, {\"Incident Category\": \"Case Closure\", \"Closed\": 382.0, \"Open\": 13.0, \"Total\": 395, \"closure_rate\": 96.70886075949367, \"percent_of_all_crimes\": 0.2564568697978211}, {\"Incident Category\": \"Civil Sidewalks\", \"Closed\": 375.0, \"Open\": 126.0, \"Total\": 501, \"closure_rate\": 74.8502994011976, \"percent_of_all_crimes\": 0.32527820700938825}, {\"Incident Category\": \"Courtesy Report\", \"Closed\": 27.0, \"Open\": 372.0, \"Total\": 399, \"closure_rate\": 6.7669172932330826, \"percent_of_all_crimes\": 0.2590539013907104}, {\"Incident Category\": \"Disorderly Conduct\", \"Closed\": 883.0, \"Open\": 1645.0, \"Total\": 2528, \"closure_rate\": 34.928797468354425, \"percent_of_all_crimes\": 1.6413239667060548}, {\"Incident Category\": \"Drug Offense\", \"Closed\": 3813.0, \"Open\": 310.0, \"Total\": 4123, \"closure_rate\": 92.4812030075188, \"percent_of_all_crimes\": 2.6768903143706746}, {\"Incident Category\": \"Drug Violation\", \"Closed\": 54.0, \"Open\": 1.0, \"Total\": 55, \"closure_rate\": 98.18181818181819, \"percent_of_all_crimes\": 0.035709184402228256}, {\"Incident Category\": \"Embezzlement\", \"Closed\": 26.0, \"Open\": 166.0, \"Total\": 192, \"closure_rate\": 13.541666666666666, \"percent_of_all_crimes\": 0.12465751645868771}, {\"Incident Category\": \"Family Offense\", \"Closed\": 112.0, \"Open\": 89.0, \"Total\": 201, \"closure_rate\": 55.72139303482587, \"percent_of_all_crimes\": 0.1305008375426887}, {\"Incident Category\": \"Fire Report\", \"Closed\": null, \"Open\": 146.0, \"Total\": 146, \"closure_rate\": null, \"percent_of_all_crimes\": 0.09479165314046045}, {\"Incident Category\": \"Forgery And Counterfeiting\", \"Closed\": 207.0, \"Open\": 448.0, \"Total\": 655, \"closure_rate\": 31.603053435114504, \"percent_of_all_crimes\": 0.42526392333562735}, {\"Incident Category\": \"Fraud\", \"Closed\": 186.0, \"Open\": 4208.0, \"Total\": 4394, \"closure_rate\": 4.233045061447428, \"percent_of_all_crimes\": 2.852839204788926}, {\"Incident Category\": \"Gambling\", \"Closed\": 13.0, \"Open\": 1.0, \"Total\": 14, \"closure_rate\": 92.85714285714286, \"percent_of_all_crimes\": 0.009089610575112646}, {\"Incident Category\": \"Homicide\", \"Closed\": 14.0, \"Open\": 10.0, \"Total\": 24, \"closure_rate\": 58.333333333333336, \"percent_of_all_crimes\": 0.015582189557335964}, {\"Incident Category\": \"Human Trafficking (A), Commercial Sex Acts\", \"Closed\": 64.0, \"Open\": 21.0, \"Total\": 85, \"closure_rate\": 75.29411764705883, \"percent_of_all_crimes\": 0.05518692134889821}, {\"Incident Category\": \"Human Trafficking, Commercial Sex Acts\", \"Closed\": 2.0, \"Open\": 2.0, \"Total\": 4, \"closure_rate\": 50.0, \"percent_of_all_crimes\": 0.0025970315928893276}, {\"Incident Category\": \"Juvenile Offenses\", \"Closed\": 20.0, \"Open\": 232.0, \"Total\": 252, \"closure_rate\": 7.936507936507936, \"percent_of_all_crimes\": 0.16361299035202762}, {\"Incident Category\": \"Larceny Theft\", \"Closed\": 2286.0, \"Open\": 46413.0, \"Total\": 48699, \"closure_rate\": 4.6941415634817965, \"percent_of_all_crimes\": 31.618210385529338}, {\"Incident Category\": \"Liquor Laws\", \"Closed\": 35.0, \"Open\": 6.0, \"Total\": 41, \"closure_rate\": 85.36585365853658, \"percent_of_all_crimes\": 0.026619573827115606}, {\"Incident Category\": \"Lost Property\", \"Closed\": 16.0, \"Open\": 5681.0, \"Total\": 5697, \"closure_rate\": 0.28084956994909605, \"percent_of_all_crimes\": 3.698822246172625}, {\"Incident Category\": \"Malicious Mischief\", \"Closed\": 1069.0, \"Open\": 7786.0, \"Total\": 8855, \"closure_rate\": 12.07227555053642, \"percent_of_all_crimes\": 5.749178688758748}, {\"Incident Category\": \"Miscellaneous Investigation\", \"Closed\": 54.0, \"Open\": 1217.0, \"Total\": 1271, \"closure_rate\": 4.248623131392605, \"percent_of_all_crimes\": 0.8252067886405837}, {\"Incident Category\": \"Missing Person\", \"Closed\": 167.0, \"Open\": 4263.0, \"Total\": 4430, \"closure_rate\": 3.769751693002257, \"percent_of_all_crimes\": 2.8762124891249305}, {\"Incident Category\": \"Motor Vehicle Theft\", \"Closed\": 277.0, \"Open\": 4988.0, \"Total\": 5265, \"closure_rate\": 5.261158594491928, \"percent_of_all_crimes\": 3.4183428341405775}, {\"Incident Category\": \"Motor Vehicle Theft?\", \"Closed\": 23.0, \"Open\": 7.0, \"Total\": 30, \"closure_rate\": 76.66666666666667, \"percent_of_all_crimes\": 0.019477736946669957}, {\"Incident Category\": \"Non-Criminal\", \"Closed\": 1073.0, \"Open\": 8404.0, \"Total\": 9477, \"closure_rate\": 11.322148359185396, \"percent_of_all_crimes\": 6.153017101453039}, {\"Incident Category\": \"Offences Against The Family And Children\", \"Closed\": 1495.0, \"Open\": 1908.0, \"Total\": 3403, \"closure_rate\": 43.93182486041728, \"percent_of_all_crimes\": 2.2094246276505953}, {\"Incident Category\": \"Other\", \"Closed\": 5.0, \"Open\": 879.0, \"Total\": 884, \"closure_rate\": 0.5656108597285068, \"percent_of_all_crimes\": 0.5739439820285414}, {\"Incident Category\": \"Other Miscellaneous\", \"Closed\": 7804.0, \"Open\": 4147.0, \"Total\": 11951, \"closure_rate\": 65.29997489749812, \"percent_of_all_crimes\": 7.759281141655089}, {\"Incident Category\": \"Other Offenses\", \"Closed\": 613.0, \"Open\": 509.0, \"Total\": 1122, \"closure_rate\": 54.634581105169346, \"percent_of_all_crimes\": 0.7284673618054563}, {\"Incident Category\": \"Prostitution\", \"Closed\": 353.0, \"Open\": 27.0, \"Total\": 380, \"closure_rate\": 92.89473684210526, \"percent_of_all_crimes\": 0.24671800132448612}, {\"Incident Category\": \"Rape\", \"Closed\": 5.0, \"Open\": 45.0, \"Total\": 50, \"closure_rate\": 10.0, \"percent_of_all_crimes\": 0.03246289491111659}, {\"Incident Category\": \"Recovered Vehicle\", \"Closed\": 438.0, \"Open\": 3841.0, \"Total\": 4279, \"closure_rate\": 10.23603645711615, \"percent_of_all_crimes\": 2.778174546493358}, {\"Incident Category\": \"Robbery\", \"Closed\": 933.0, \"Open\": 2784.0, \"Total\": 3717, \"closure_rate\": 25.10088781275222, \"percent_of_all_crimes\": 2.4132916076924076}, {\"Incident Category\": \"Sex Offense\", \"Closed\": 200.0, \"Open\": 222.0, \"Total\": 422, \"closure_rate\": 47.39336492890995, \"percent_of_all_crimes\": 0.2739868330498241}, {\"Incident Category\": \"Stolen Property\", \"Closed\": 696.0, \"Open\": 100.0, \"Total\": 796, \"closure_rate\": 87.43718592964824, \"percent_of_all_crimes\": 0.5168092869849762}, {\"Incident Category\": \"Suicide\", \"Closed\": 2.0, \"Open\": 52.0, \"Total\": 54, \"closure_rate\": 3.7037037037037033, \"percent_of_all_crimes\": 0.035059926504005925}, {\"Incident Category\": \"Suspicious\", \"Closed\": null, \"Open\": 29.0, \"Total\": 29, \"closure_rate\": null, \"percent_of_all_crimes\": 0.018828479048447623}, {\"Incident Category\": \"Suspicious Occ\", \"Closed\": 59.0, \"Open\": 2628.0, \"Total\": 2687, \"closure_rate\": 2.195757350204689, \"percent_of_all_crimes\": 1.7445559725234057}, {\"Incident Category\": \"Traffic Collision\", \"Closed\": 118.0, \"Open\": 139.0, \"Total\": 257, \"closure_rate\": 45.91439688715953, \"percent_of_all_crimes\": 0.16685927984313928}, {\"Incident Category\": \"Traffic Violation Arrest\", \"Closed\": 2038.0, \"Open\": 58.0, \"Total\": 2096, \"closure_rate\": 97.2328244274809, \"percent_of_all_crimes\": 1.3608445546740076}, {\"Incident Category\": \"Vandalism\", \"Closed\": 87.0, \"Open\": 89.0, \"Total\": 176, \"closure_rate\": 49.43181818181818, \"percent_of_all_crimes\": 0.11426939008713041}, {\"Incident Category\": \"Vehicle Impounded\", \"Closed\": 46.0, \"Open\": 41.0, \"Total\": 87, \"closure_rate\": 52.87356321839081, \"percent_of_all_crimes\": 0.05648543714534287}, {\"Incident Category\": \"Vehicle Misplaced\", \"Closed\": null, \"Open\": 41.0, \"Total\": 41, \"closure_rate\": null, \"percent_of_all_crimes\": 0.026619573827115606}, {\"Incident Category\": \"Warrant\", \"Closed\": 5401.0, \"Open\": 252.0, \"Total\": 5653, \"closure_rate\": 95.54218998761719, \"percent_of_all_crimes\": 3.6702548986508416}, {\"Incident Category\": \"Weapons Carrying Etc\", \"Closed\": 802.0, \"Open\": 69.0, \"Total\": 871, \"closure_rate\": 92.0780711825488, \"percent_of_all_crimes\": 0.5655036293516511}, {\"Incident Category\": \"Weapons Offence\", \"Closed\": 5.0, \"Open\": null, \"Total\": 5, \"closure_rate\": 100.0, \"percent_of_all_crimes\": 0.0032462894911116594}, {\"Incident Category\": \"Weapons Offense\", \"Closed\": 374.0, \"Open\": 396.0, \"Total\": 770, \"closure_rate\": 48.57142857142857, \"percent_of_all_crimes\": 0.4999285816311956}]}};\n",
       "var opt = {};\n",
       "var type = \"vega-lite\";\n",
       "var id = \"c12bc29a-7efd-4324-87d6-912bc3973f08\";\n",
       "\n",
       "var output_area = this;\n",
       "\n",
       "require([\"nbextensions/jupyter-vega/index\"], function(vega) {\n",
       "  var target = document.createElement(\"div\");\n",
       "  target.id = id;\n",
       "  target.className = \"vega-embed\";\n",
       "\n",
       "  var style = document.createElement(\"style\");\n",
       "  style.textContent = [\n",
       "    \".vega-embed .error p {\",\n",
       "    \"  color: firebrick;\",\n",
       "    \"  font-size: 14px;\",\n",
       "    \"}\",\n",
       "  ].join(\"\\\\n\");\n",
       "\n",
       "  // element is a jQuery wrapped DOM element inside the output area\n",
       "  // see http://ipython.readthedocs.io/en/stable/api/generated/\\\n",
       "  // IPython.display.html#IPython.display.Javascript.__init__\n",
       "  element[0].appendChild(target);\n",
       "  element[0].appendChild(style);\n",
       "\n",
       "  vega.render(\"#\" + id, spec, type, opt, output_area);\n",
       "}, function (err) {\n",
       "  if (err.requireType !== \"scripterror\") {\n",
       "    throw(err);\n",
       "  }\n",
       "});\n"
      ],
      "text/plain": [
       "<vega.vegalite.VegaLite at 0x103c35f98>"
      ]
     },
     "metadata": {
      "jupyter-vega": "#c12bc29a-7efd-4324-87d6-912bc3973f08"
     },
     "output_type": "display_data"
    },
    {
     "data": {
      "text/plain": []
     },
     "execution_count": 28,
     "metadata": {},
     "output_type": "execute_result"
    },
    {
     "data": {
      "image/png": "[encoded data removed]"
     },
     "metadata": {
      "jupyter-vega": "#c12bc29a-7efd-4324-87d6-912bc3973f08"
     },
     "output_type": "display_data"
    }
   ],
   "source": [
    "alt.Chart(\n",
    "    status_by_crime\n",
    ").mark_point(\n",
    ").encode(\n",
    "    x = 'percent_of_all_crimes',\n",
    "    y = 'closure_rate'\n",
    ")"
   ]
  },
  {
   "cell_type": "markdown",
   "metadata": {},
   "source": [
    "This type of chart is known as a scatterplot. It is used to check for a relationship or correlation between two different variables - in this case `percent_of_all_crimes` and `closure_rate`. There is very little clustering of the data points here, indicating that there is no real relationship. So there is not a lot to glean from this chart, other than the fact that the most common crime has a very low closure rate. So what crime is that?"
   ]
  },
  {
   "cell_type": "code",
   "execution_count": 29,
   "metadata": {},
   "outputs": [
    {
     "data": {
      "text/html": [
       "<div>\n",
       "<style scoped>\n",
       "    .dataframe tbody tr th:only-of-type {\n",
       "        vertical-align: middle;\n",
       "    }\n",
       "\n",
       "    .dataframe tbody tr th {\n",
       "        vertical-align: top;\n",
       "    }\n",
       "\n",
       "    .dataframe thead th {\n",
       "        text-align: right;\n",
       "    }\n",
       "</style>\n",
       "<table border=\"1\" class=\"dataframe\">\n",
       "  <thead>\n",
       "    <tr style=\"text-align: right;\">\n",
       "      <th></th>\n",
       "      <th>Incident Category</th>\n",
       "      <th>Closed</th>\n",
       "      <th>Open</th>\n",
       "      <th>Total</th>\n",
       "      <th>closure_rate</th>\n",
       "      <th>percent_of_all_crimes</th>\n",
       "    </tr>\n",
       "  </thead>\n",
       "  <tbody>\n",
       "    <tr>\n",
       "      <th>19</th>\n",
       "      <td>Larceny Theft</td>\n",
       "      <td>2286.0</td>\n",
       "      <td>46413.0</td>\n",
       "      <td>48699</td>\n",
       "      <td>4.694142</td>\n",
       "      <td>31.61821</td>\n",
       "    </tr>\n",
       "  </tbody>\n",
       "</table>\n",
       "</div>"
      ],
      "text/plain": [
       "   Incident Category  Closed     Open  Total  closure_rate  \\\n",
       "19     Larceny Theft  2286.0  46413.0  48699      4.694142   \n",
       "\n",
       "    percent_of_all_crimes  \n",
       "19               31.61821  "
      ]
     },
     "execution_count": 29,
     "metadata": {},
     "output_type": "execute_result"
    }
   ],
   "source": [
    "status_by_crime.sort_values('percent_of_all_crimes', ascending = False).head(1)"
   ]
  },
  {
   "cell_type": "markdown",
   "metadata": {},
   "source": [
    "So larcenies are the most common crime. The low closure rate at the time the report was filed is not surprising either. A lot of times an officer doesn't even respond to these types of calls. Instead victims fill out police reports and submit them online or by mail. But it warrants looking further into larcenies.\n",
    "\n",
    "## Diving deeper into larcenies\n",
    "\n",
    "Let's start by isolating those records related to larceny and then look at the subcategories for larceny."
   ]
  },
  {
   "cell_type": "code",
   "execution_count": 30,
   "metadata": {},
   "outputs": [
    {
     "data": {
      "text/html": [
       "<div>\n",
       "<style scoped>\n",
       "    .dataframe tbody tr th:only-of-type {\n",
       "        vertical-align: middle;\n",
       "    }\n",
       "\n",
       "    .dataframe tbody tr th {\n",
       "        vertical-align: top;\n",
       "    }\n",
       "\n",
       "    .dataframe thead th {\n",
       "        text-align: right;\n",
       "    }\n",
       "</style>\n",
       "<table border=\"1\" class=\"dataframe\">\n",
       "  <thead>\n",
       "    <tr style=\"text-align: right;\">\n",
       "      <th></th>\n",
       "      <th>Incident Datetime</th>\n",
       "      <th>Incident Date</th>\n",
       "      <th>Incident Time</th>\n",
       "      <th>Incident Year</th>\n",
       "      <th>Incident Day of Week</th>\n",
       "      <th>Report Datetime</th>\n",
       "      <th>Row ID</th>\n",
       "      <th>Incident ID</th>\n",
       "      <th>Incident Number</th>\n",
       "      <th>CAD Number</th>\n",
       "      <th>...</th>\n",
       "      <th>CNN</th>\n",
       "      <th>Police District</th>\n",
       "      <th>Analysis Neighborhood</th>\n",
       "      <th>Supervisor District</th>\n",
       "      <th>Latitude</th>\n",
       "      <th>Longitude</th>\n",
       "      <th>point</th>\n",
       "      <th>incident_timestamp</th>\n",
       "      <th>report_timestamp</th>\n",
       "      <th>case_status</th>\n",
       "    </tr>\n",
       "  </thead>\n",
       "  <tbody>\n",
       "    <tr>\n",
       "      <th>2</th>\n",
       "      <td>2018/10/14 02:54:00 PM</td>\n",
       "      <td>2018-10-14</td>\n",
       "      <td>14:54</td>\n",
       "      <td>2018</td>\n",
       "      <td>Sunday</td>\n",
       "      <td>2018/10/24 01:10:00 PM</td>\n",
       "      <td>72980906303</td>\n",
       "      <td>729809</td>\n",
       "      <td>180807520</td>\n",
       "      <td>182971760.0</td>\n",
       "      <td>...</td>\n",
       "      <td>23104000.0</td>\n",
       "      <td>Taraval</td>\n",
       "      <td>Lakeshore</td>\n",
       "      <td>7.0</td>\n",
       "      <td>37.720450</td>\n",
       "      <td>-122.483015</td>\n",
       "      <td>(37.7204499957522, -122.48301534194144)</td>\n",
       "      <td>2018-10-14 14:54:00</td>\n",
       "      <td>2018-10-24 13:10:00</td>\n",
       "      <td>Open</td>\n",
       "    </tr>\n",
       "    <tr>\n",
       "      <th>12</th>\n",
       "      <td>2018/10/25 10:40:00 AM</td>\n",
       "      <td>2018-10-25</td>\n",
       "      <td>10:40</td>\n",
       "      <td>2018</td>\n",
       "      <td>Thursday</td>\n",
       "      <td>2018/10/25 01:32:00 PM</td>\n",
       "      <td>73019506244</td>\n",
       "      <td>730195</td>\n",
       "      <td>180810078</td>\n",
       "      <td>182982046.0</td>\n",
       "      <td>...</td>\n",
       "      <td>33719000.0</td>\n",
       "      <td>Taraval</td>\n",
       "      <td>Lakeshore</td>\n",
       "      <td>7.0</td>\n",
       "      <td>37.726950</td>\n",
       "      <td>-122.476039</td>\n",
       "      <td>(37.72694991292525, -122.47603947349434)</td>\n",
       "      <td>2018-10-25 10:40:00</td>\n",
       "      <td>2018-10-25 13:32:00</td>\n",
       "      <td>Open</td>\n",
       "    </tr>\n",
       "    <tr>\n",
       "      <th>13</th>\n",
       "      <td>2018/10/25 07:30:00 AM</td>\n",
       "      <td>2018-10-25</td>\n",
       "      <td>07:30</td>\n",
       "      <td>2018</td>\n",
       "      <td>Thursday</td>\n",
       "      <td>2018/10/25 07:36:00 AM</td>\n",
       "      <td>73019906154</td>\n",
       "      <td>730199</td>\n",
       "      <td>180809350</td>\n",
       "      <td>182980609.0</td>\n",
       "      <td>...</td>\n",
       "      <td>20356000.0</td>\n",
       "      <td>Ingleside</td>\n",
       "      <td>Visitacion Valley</td>\n",
       "      <td>10.0</td>\n",
       "      <td>37.712547</td>\n",
       "      <td>-122.407348</td>\n",
       "      <td>(37.712547388545694, -122.40734778224339)</td>\n",
       "      <td>2018-10-25 07:30:00</td>\n",
       "      <td>2018-10-25 07:36:00</td>\n",
       "      <td>Open</td>\n",
       "    </tr>\n",
       "    <tr>\n",
       "      <th>15</th>\n",
       "      <td>2018/10/24 12:30:00 PM</td>\n",
       "      <td>2018-10-24</td>\n",
       "      <td>12:30</td>\n",
       "      <td>2018</td>\n",
       "      <td>Wednesday</td>\n",
       "      <td>2018/10/25 05:06:00 AM</td>\n",
       "      <td>73021006374</td>\n",
       "      <td>730210</td>\n",
       "      <td>180809714</td>\n",
       "      <td>182980359.0</td>\n",
       "      <td>...</td>\n",
       "      <td>23827000.0</td>\n",
       "      <td>Southern</td>\n",
       "      <td>South of Market</td>\n",
       "      <td>6.0</td>\n",
       "      <td>37.778327</td>\n",
       "      <td>-122.396531</td>\n",
       "      <td>(37.7783268304671, -122.39653063923612)</td>\n",
       "      <td>2018-10-24 12:30:00</td>\n",
       "      <td>2018-10-25 05:06:00</td>\n",
       "      <td>Open</td>\n",
       "    </tr>\n",
       "    <tr>\n",
       "      <th>16</th>\n",
       "      <td>2018/10/25 01:39:00 PM</td>\n",
       "      <td>2018-10-25</td>\n",
       "      <td>13:39</td>\n",
       "      <td>2018</td>\n",
       "      <td>Thursday</td>\n",
       "      <td>2018/10/25 04:56:00 PM</td>\n",
       "      <td>73024006242</td>\n",
       "      <td>730240</td>\n",
       "      <td>180810705</td>\n",
       "      <td>182982924.0</td>\n",
       "      <td>...</td>\n",
       "      <td>23606000.0</td>\n",
       "      <td>Southern</td>\n",
       "      <td>Financial District/South Beach</td>\n",
       "      <td>6.0</td>\n",
       "      <td>37.788838</td>\n",
       "      <td>-122.389429</td>\n",
       "      <td>(37.78883777870189, -122.38942894299095)</td>\n",
       "      <td>2018-10-25 13:39:00</td>\n",
       "      <td>2018-10-25 16:56:00</td>\n",
       "      <td>Open</td>\n",
       "    </tr>\n",
       "  </tbody>\n",
       "</table>\n",
       "<p>5 rows × 29 columns</p>\n",
       "</div>"
      ],
      "text/plain": [
       "         Incident Datetime Incident Date Incident Time  Incident Year  \\\n",
       "2   2018/10/14 02:54:00 PM    2018-10-14         14:54           2018   \n",
       "12  2018/10/25 10:40:00 AM    2018-10-25         10:40           2018   \n",
       "13  2018/10/25 07:30:00 AM    2018-10-25         07:30           2018   \n",
       "15  2018/10/24 12:30:00 PM    2018-10-24         12:30           2018   \n",
       "16  2018/10/25 01:39:00 PM    2018-10-25         13:39           2018   \n",
       "\n",
       "   Incident Day of Week         Report Datetime       Row ID  Incident ID  \\\n",
       "2                Sunday  2018/10/24 01:10:00 PM  72980906303       729809   \n",
       "12             Thursday  2018/10/25 01:32:00 PM  73019506244       730195   \n",
       "13             Thursday  2018/10/25 07:36:00 AM  73019906154       730199   \n",
       "15            Wednesday  2018/10/25 05:06:00 AM  73021006374       730210   \n",
       "16             Thursday  2018/10/25 04:56:00 PM  73024006242       730240   \n",
       "\n",
       "    Incident Number   CAD Number  ...         CNN Police District  \\\n",
       "2         180807520  182971760.0  ...  23104000.0         Taraval   \n",
       "12        180810078  182982046.0  ...  33719000.0         Taraval   \n",
       "13        180809350  182980609.0  ...  20356000.0       Ingleside   \n",
       "15        180809714  182980359.0  ...  23827000.0        Southern   \n",
       "16        180810705  182982924.0  ...  23606000.0        Southern   \n",
       "\n",
       "             Analysis Neighborhood  Supervisor District   Latitude  \\\n",
       "2                        Lakeshore                  7.0  37.720450   \n",
       "12                       Lakeshore                  7.0  37.726950   \n",
       "13               Visitacion Valley                 10.0  37.712547   \n",
       "15                 South of Market                  6.0  37.778327   \n",
       "16  Financial District/South Beach                  6.0  37.788838   \n",
       "\n",
       "     Longitude                                      point  incident_timestamp  \\\n",
       "2  -122.483015    (37.7204499957522, -122.48301534194144) 2018-10-14 14:54:00   \n",
       "12 -122.476039   (37.72694991292525, -122.47603947349434) 2018-10-25 10:40:00   \n",
       "13 -122.407348  (37.712547388545694, -122.40734778224339) 2018-10-25 07:30:00   \n",
       "15 -122.396531    (37.7783268304671, -122.39653063923612) 2018-10-24 12:30:00   \n",
       "16 -122.389429   (37.78883777870189, -122.38942894299095) 2018-10-25 13:39:00   \n",
       "\n",
       "      report_timestamp  case_status  \n",
       "2  2018-10-24 13:10:00         Open  \n",
       "12 2018-10-25 13:32:00         Open  \n",
       "13 2018-10-25 07:36:00         Open  \n",
       "15 2018-10-25 05:06:00         Open  \n",
       "16 2018-10-25 16:56:00         Open  \n",
       "\n",
       "[5 rows x 29 columns]"
      ]
     },
     "execution_count": 30,
     "metadata": {},
     "output_type": "execute_result"
    }
   ],
   "source": [
    "larcenies = incidents.loc[incidents['Incident Category'] == 'Larceny Theft',:]\n",
    "larcenies.head()"
   ]
  },
  {
   "cell_type": "code",
   "execution_count": 31,
   "metadata": {},
   "outputs": [
    {
     "data": {
      "text/html": [
       "<div>\n",
       "<style scoped>\n",
       "    .dataframe tbody tr th:only-of-type {\n",
       "        vertical-align: middle;\n",
       "    }\n",
       "\n",
       "    .dataframe tbody tr th {\n",
       "        vertical-align: top;\n",
       "    }\n",
       "\n",
       "    .dataframe thead th {\n",
       "        text-align: right;\n",
       "    }\n",
       "</style>\n",
       "<table border=\"1\" class=\"dataframe\">\n",
       "  <thead>\n",
       "    <tr style=\"text-align: right;\">\n",
       "      <th></th>\n",
       "      <th>Incident Subcategory</th>\n",
       "      <th>Row ID</th>\n",
       "    </tr>\n",
       "  </thead>\n",
       "  <tbody>\n",
       "    <tr>\n",
       "      <th>0</th>\n",
       "      <td>Larceny - Auto Parts</td>\n",
       "      <td>75</td>\n",
       "    </tr>\n",
       "    <tr>\n",
       "      <th>1</th>\n",
       "      <td>Larceny - From Vehicle</td>\n",
       "      <td>28409</td>\n",
       "    </tr>\n",
       "    <tr>\n",
       "      <th>2</th>\n",
       "      <td>Larceny Theft - Bicycle</td>\n",
       "      <td>618</td>\n",
       "    </tr>\n",
       "    <tr>\n",
       "      <th>3</th>\n",
       "      <td>Larceny Theft - From Building</td>\n",
       "      <td>3024</td>\n",
       "    </tr>\n",
       "    <tr>\n",
       "      <th>4</th>\n",
       "      <td>Larceny Theft - Other</td>\n",
       "      <td>11641</td>\n",
       "    </tr>\n",
       "    <tr>\n",
       "      <th>5</th>\n",
       "      <td>Larceny Theft - Pickpocket</td>\n",
       "      <td>794</td>\n",
       "    </tr>\n",
       "    <tr>\n",
       "      <th>6</th>\n",
       "      <td>Larceny Theft - Purse Snatch</td>\n",
       "      <td>30</td>\n",
       "    </tr>\n",
       "    <tr>\n",
       "      <th>7</th>\n",
       "      <td>Larceny Theft - Shoplifting</td>\n",
       "      <td>2693</td>\n",
       "    </tr>\n",
       "    <tr>\n",
       "      <th>8</th>\n",
       "      <td>Theft From Vehicle</td>\n",
       "      <td>1415</td>\n",
       "    </tr>\n",
       "  </tbody>\n",
       "</table>\n",
       "</div>"
      ],
      "text/plain": [
       "            Incident Subcategory  Row ID\n",
       "0           Larceny - Auto Parts      75\n",
       "1         Larceny - From Vehicle   28409\n",
       "2        Larceny Theft - Bicycle     618\n",
       "3  Larceny Theft - From Building    3024\n",
       "4          Larceny Theft - Other   11641\n",
       "5     Larceny Theft - Pickpocket     794\n",
       "6   Larceny Theft - Purse Snatch      30\n",
       "7    Larceny Theft - Shoplifting    2693\n",
       "8             Theft From Vehicle    1415"
      ]
     },
     "execution_count": 31,
     "metadata": {},
     "output_type": "execute_result"
    }
   ],
   "source": [
    "larcenies[['Incident Subcategory', 'Row ID']].groupby('Incident Subcategory', as_index = False).count()"
   ]
  },
  {
   "cell_type": "markdown",
   "metadata": {},
   "source": [
    "Wait a minute. There are two subcategories that appear to be the same - `Larceny - From Vehicle` and `Theft From Vehicle`. Let's combine those two and re-run this portion of the analysis."
   ]
  },
  {
   "cell_type": "code",
   "execution_count": 32,
   "metadata": {},
   "outputs": [
    {
     "name": "stderr",
     "output_type": "stream",
     "text": [
      "/Users/tumgoren/.local/share/virtualenvs/sfgov-1jv1HqtK/lib/python3.6/site-packages/pandas/core/generic.py:6586: SettingWithCopyWarning: \n",
      "A value is trying to be set on a copy of a slice from a DataFrame\n",
      "\n",
      "See the caveats in the documentation: http://pandas.pydata.org/pandas-docs/stable/indexing.html#indexing-view-versus-copy\n",
      "  self._update_inplace(new_data)\n"
     ]
    },
    {
     "data": {
      "text/html": [
       "<div>\n",
       "<style scoped>\n",
       "    .dataframe tbody tr th:only-of-type {\n",
       "        vertical-align: middle;\n",
       "    }\n",
       "\n",
       "    .dataframe tbody tr th {\n",
       "        vertical-align: top;\n",
       "    }\n",
       "\n",
       "    .dataframe thead th {\n",
       "        text-align: right;\n",
       "    }\n",
       "</style>\n",
       "<table border=\"1\" class=\"dataframe\">\n",
       "  <thead>\n",
       "    <tr style=\"text-align: right;\">\n",
       "      <th></th>\n",
       "      <th>Incident Subcategory</th>\n",
       "      <th>Row ID</th>\n",
       "    </tr>\n",
       "  </thead>\n",
       "  <tbody>\n",
       "    <tr>\n",
       "      <th>0</th>\n",
       "      <td>Larceny - Auto Parts</td>\n",
       "      <td>75</td>\n",
       "    </tr>\n",
       "    <tr>\n",
       "      <th>1</th>\n",
       "      <td>Larceny - From Vehicle</td>\n",
       "      <td>29824</td>\n",
       "    </tr>\n",
       "    <tr>\n",
       "      <th>2</th>\n",
       "      <td>Larceny Theft - Bicycle</td>\n",
       "      <td>618</td>\n",
       "    </tr>\n",
       "    <tr>\n",
       "      <th>3</th>\n",
       "      <td>Larceny Theft - From Building</td>\n",
       "      <td>3024</td>\n",
       "    </tr>\n",
       "    <tr>\n",
       "      <th>4</th>\n",
       "      <td>Larceny Theft - Other</td>\n",
       "      <td>11641</td>\n",
       "    </tr>\n",
       "    <tr>\n",
       "      <th>5</th>\n",
       "      <td>Larceny Theft - Pickpocket</td>\n",
       "      <td>794</td>\n",
       "    </tr>\n",
       "    <tr>\n",
       "      <th>6</th>\n",
       "      <td>Larceny Theft - Purse Snatch</td>\n",
       "      <td>30</td>\n",
       "    </tr>\n",
       "    <tr>\n",
       "      <th>7</th>\n",
       "      <td>Larceny Theft - Shoplifting</td>\n",
       "      <td>2693</td>\n",
       "    </tr>\n",
       "  </tbody>\n",
       "</table>\n",
       "</div>"
      ],
      "text/plain": [
       "            Incident Subcategory  Row ID\n",
       "0           Larceny - Auto Parts      75\n",
       "1         Larceny - From Vehicle   29824\n",
       "2        Larceny Theft - Bicycle     618\n",
       "3  Larceny Theft - From Building    3024\n",
       "4          Larceny Theft - Other   11641\n",
       "5     Larceny Theft - Pickpocket     794\n",
       "6   Larceny Theft - Purse Snatch      30\n",
       "7    Larceny Theft - Shoplifting    2693"
      ]
     },
     "execution_count": 32,
     "metadata": {},
     "output_type": "execute_result"
    }
   ],
   "source": [
    "larcenies['Incident Subcategory'].replace({'Theft From Vehicle' : 'Larceny - From Vehicle'}, inplace = True)\n",
    "\n",
    "larcenies[['Incident Subcategory', 'Row ID']].groupby('Incident Subcategory', as_index = False).count()"
   ]
  },
  {
   "cell_type": "markdown",
   "metadata": {},
   "source": [
    "So theft from vehicles is the most common type of larceny. Let's isolate that and dig in further."
   ]
  },
  {
   "cell_type": "code",
   "execution_count": 33,
   "metadata": {},
   "outputs": [
    {
     "data": {
      "text/plain": [
       "29824"
      ]
     },
     "execution_count": 33,
     "metadata": {},
     "output_type": "execute_result"
    }
   ],
   "source": [
    "thefts_from_car = larcenies.loc[larcenies['Incident Subcategory'] == 'Larceny - From Vehicle', :]\n",
    "thefts_from_car['Row ID'].count()"
   ]
  },
  {
   "cell_type": "markdown",
   "metadata": {},
   "source": [
    "How often are cases closed at the time of when the report was filed?"
   ]
  },
  {
   "cell_type": "code",
   "execution_count": 34,
   "metadata": {},
   "outputs": [
    {
     "data": {
      "text/plain": [
       "Open      29234\n",
       "Closed      590\n",
       "Name: case_status, dtype: int64"
      ]
     },
     "execution_count": 34,
     "metadata": {},
     "output_type": "execute_result"
    }
   ],
   "source": [
    "thefts_status = thefts_from_car['case_status'].value_counts()\n",
    "thefts_status"
   ]
  },
  {
   "cell_type": "code",
   "execution_count": 35,
   "metadata": {},
   "outputs": [
    {
     "data": {
      "text/plain": [
       "1.9782725321888412"
      ]
     },
     "execution_count": 35,
     "metadata": {},
     "output_type": "execute_result"
    }
   ],
   "source": [
    "(thefts_status['Closed'] / (thefts_status['Open'] + thefts_status['Closed'])) * 100.0"
   ]
  },
  {
   "cell_type": "markdown",
   "metadata": {},
   "source": [
    "Less than 2 percent of the time. That's not very high. Let's ask some other questions.\n",
    "\n",
    "### Where are these types of thefts most common?"
   ]
  },
  {
   "cell_type": "code",
   "execution_count": 37,
   "metadata": {},
   "outputs": [
    {
     "data": {
      "text/html": [
       "<div>\n",
       "<style scoped>\n",
       "    .dataframe tbody tr th:only-of-type {\n",
       "        vertical-align: middle;\n",
       "    }\n",
       "\n",
       "    .dataframe tbody tr th {\n",
       "        vertical-align: top;\n",
       "    }\n",
       "\n",
       "    .dataframe thead th {\n",
       "        text-align: right;\n",
       "    }\n",
       "</style>\n",
       "<table border=\"1\" class=\"dataframe\">\n",
       "  <thead>\n",
       "    <tr style=\"text-align: right;\">\n",
       "      <th></th>\n",
       "      <th>Analysis Neighborhood</th>\n",
       "      <th>Thefts</th>\n",
       "    </tr>\n",
       "  </thead>\n",
       "  <tbody>\n",
       "    <tr>\n",
       "      <th>18</th>\n",
       "      <td>Mission</td>\n",
       "      <td>2581</td>\n",
       "    </tr>\n",
       "    <tr>\n",
       "      <th>5</th>\n",
       "      <td>Financial District/South Beach</td>\n",
       "      <td>2103</td>\n",
       "    </tr>\n",
       "    <tr>\n",
       "      <th>22</th>\n",
       "      <td>North Beach</td>\n",
       "      <td>1971</td>\n",
       "    </tr>\n",
       "    <tr>\n",
       "      <th>33</th>\n",
       "      <td>South of Market</td>\n",
       "      <td>1825</td>\n",
       "    </tr>\n",
       "    <tr>\n",
       "      <th>31</th>\n",
       "      <td>Russian Hill</td>\n",
       "      <td>1631</td>\n",
       "    </tr>\n",
       "    <tr>\n",
       "      <th>40</th>\n",
       "      <td>Western Addition</td>\n",
       "      <td>1301</td>\n",
       "    </tr>\n",
       "    <tr>\n",
       "      <th>9</th>\n",
       "      <td>Hayes Valley</td>\n",
       "      <td>1292</td>\n",
       "    </tr>\n",
       "    <tr>\n",
       "      <th>35</th>\n",
       "      <td>Tenderloin</td>\n",
       "      <td>1252</td>\n",
       "    </tr>\n",
       "    <tr>\n",
       "      <th>16</th>\n",
       "      <td>Marina</td>\n",
       "      <td>901</td>\n",
       "    </tr>\n",
       "    <tr>\n",
       "      <th>25</th>\n",
       "      <td>Outer Richmond</td>\n",
       "      <td>825</td>\n",
       "    </tr>\n",
       "  </tbody>\n",
       "</table>\n",
       "</div>"
      ],
      "text/plain": [
       "             Analysis Neighborhood  Thefts\n",
       "18                         Mission    2581\n",
       "5   Financial District/South Beach    2103\n",
       "22                     North Beach    1971\n",
       "33                 South of Market    1825\n",
       "31                    Russian Hill    1631\n",
       "40                Western Addition    1301\n",
       "9                     Hayes Valley    1292\n",
       "35                      Tenderloin    1252\n",
       "16                          Marina     901\n",
       "25                  Outer Richmond     825"
      ]
     },
     "execution_count": 37,
     "metadata": {},
     "output_type": "execute_result"
    }
   ],
   "source": [
    "by_neighborhood = thefts_from_car[['Analysis Neighborhood', 'Row ID']].groupby(\n",
    "    'Analysis Neighborhood', \n",
    "    as_index = False\n",
    ").count()\n",
    "\n",
    "by_neighborhood.rename(columns = {'Row ID' : 'Thefts'}, inplace = True)\n",
    "\n",
    "#by_neighborhood = by_district.sort_values('Thefts', ascending = False)\n",
    "by_neighborhood = by_neighborhood.sort_values('Thefts', ascending = False)\n",
    "\n",
    "by_neighborhood.head(10)"
   ]
  },
  {
   "cell_type": "code",
   "execution_count": 38,
   "metadata": {},
   "outputs": [
    {
     "data": {
      "application/javascript": [
       "var spec = {\"config\": {\"view\": {\"width\": 400, \"height\": 300}}, \"data\": {\"name\": \"data-26ff666a647f1eb298cd770e6b8d6e8a\"}, \"mark\": \"bar\", \"encoding\": {\"x\": {\"type\": \"quantitative\", \"field\": \"Thefts\"}, \"y\": {\"type\": \"nominal\", \"field\": \"Analysis Neighborhood\"}}, \"$schema\": \"https://vega.github.io/schema/vega-lite/v2.6.0.json\", \"datasets\": {\"data-26ff666a647f1eb298cd770e6b8d6e8a\": [{\"Analysis Neighborhood\": \"Mission\", \"Thefts\": 2581}, {\"Analysis Neighborhood\": \"Financial District/South Beach\", \"Thefts\": 2103}, {\"Analysis Neighborhood\": \"North Beach\", \"Thefts\": 1971}, {\"Analysis Neighborhood\": \"South of Market\", \"Thefts\": 1825}, {\"Analysis Neighborhood\": \"Russian Hill\", \"Thefts\": 1631}, {\"Analysis Neighborhood\": \"Western Addition\", \"Thefts\": 1301}, {\"Analysis Neighborhood\": \"Hayes Valley\", \"Thefts\": 1292}, {\"Analysis Neighborhood\": \"Tenderloin\", \"Thefts\": 1252}, {\"Analysis Neighborhood\": \"Marina\", \"Thefts\": 901}, {\"Analysis Neighborhood\": \"Outer Richmond\", \"Thefts\": 825}, {\"Analysis Neighborhood\": \"Bayview Hunters Point\", \"Thefts\": 796}, {\"Analysis Neighborhood\": \"Castro/Upper Market\", \"Thefts\": 760}, {\"Analysis Neighborhood\": \"Nob Hill\", \"Thefts\": 740}, {\"Analysis Neighborhood\": \"Japantown\", \"Thefts\": 708}, {\"Analysis Neighborhood\": \"Potrero Hill\", \"Thefts\": 687}, {\"Analysis Neighborhood\": \"Sunset/Parkside\", \"Thefts\": 641}, {\"Analysis Neighborhood\": \"Pacific Heights\", \"Thefts\": 566}, {\"Analysis Neighborhood\": \"Golden Gate Park\", \"Thefts\": 540}, {\"Analysis Neighborhood\": \"Chinatown\", \"Thefts\": 485}, {\"Analysis Neighborhood\": \"Mission Bay\", \"Thefts\": 479}, {\"Analysis Neighborhood\": \"Inner Richmond\", \"Thefts\": 452}, {\"Analysis Neighborhood\": \"Haight Ashbury\", \"Thefts\": 450}, {\"Analysis Neighborhood\": \"West of Twin Peaks\", \"Thefts\": 446}, {\"Analysis Neighborhood\": \"Inner Sunset\", \"Thefts\": 376}, {\"Analysis Neighborhood\": \"Lakeshore\", \"Thefts\": 343}, {\"Analysis Neighborhood\": \"Bernal Heights\", \"Thefts\": 340}, {\"Analysis Neighborhood\": \"Lone Mountain/USF\", \"Thefts\": 322}, {\"Analysis Neighborhood\": \"Portola\", \"Thefts\": 248}, {\"Analysis Neighborhood\": \"Noe Valley\", \"Thefts\": 239}, {\"Analysis Neighborhood\": \"Twin Peaks\", \"Thefts\": 226}, {\"Analysis Neighborhood\": \"Excelsior\", \"Thefts\": 187}, {\"Analysis Neighborhood\": \"Outer Mission\", \"Thefts\": 175}, {\"Analysis Neighborhood\": \"Oceanview/Merced/Ingleside\", \"Thefts\": 172}, {\"Analysis Neighborhood\": \"Glen Park\", \"Thefts\": 152}, {\"Analysis Neighborhood\": \"Visitacion Valley\", \"Thefts\": 148}, {\"Analysis Neighborhood\": \"Presidio Heights\", \"Thefts\": 132}, {\"Analysis Neighborhood\": \"Lincoln Park\", \"Thefts\": 94}, {\"Analysis Neighborhood\": \"Presidio\", \"Thefts\": 87}, {\"Analysis Neighborhood\": \"Treasure Island\", \"Thefts\": 56}, {\"Analysis Neighborhood\": \"Seacliff\", \"Thefts\": 43}, {\"Analysis Neighborhood\": \"McLaren Park\", \"Thefts\": 20}]}};\n",
       "var opt = {};\n",
       "var type = \"vega-lite\";\n",
       "var id = \"30b0ec85-3f82-46bb-b3a0-d413d27fc24e\";\n",
       "\n",
       "var output_area = this;\n",
       "\n",
       "require([\"nbextensions/jupyter-vega/index\"], function(vega) {\n",
       "  var target = document.createElement(\"div\");\n",
       "  target.id = id;\n",
       "  target.className = \"vega-embed\";\n",
       "\n",
       "  var style = document.createElement(\"style\");\n",
       "  style.textContent = [\n",
       "    \".vega-embed .error p {\",\n",
       "    \"  color: firebrick;\",\n",
       "    \"  font-size: 14px;\",\n",
       "    \"}\",\n",
       "  ].join(\"\\\\n\");\n",
       "\n",
       "  // element is a jQuery wrapped DOM element inside the output area\n",
       "  // see http://ipython.readthedocs.io/en/stable/api/generated/\\\n",
       "  // IPython.display.html#IPython.display.Javascript.__init__\n",
       "  element[0].appendChild(target);\n",
       "  element[0].appendChild(style);\n",
       "\n",
       "  vega.render(\"#\" + id, spec, type, opt, output_area);\n",
       "}, function (err) {\n",
       "  if (err.requireType !== \"scripterror\") {\n",
       "    throw(err);\n",
       "  }\n",
       "});\n"
      ],
      "text/plain": [
       "<vega.vegalite.VegaLite at 0x1110f27b8>"
      ]
     },
     "metadata": {
      "jupyter-vega": "#30b0ec85-3f82-46bb-b3a0-d413d27fc24e"
     },
     "output_type": "display_data"
    },
    {
     "data": {
      "text/plain": []
     },
     "execution_count": 38,
     "metadata": {},
     "output_type": "execute_result"
    },
    {
     "data": {
      "image/png": "[encoded data removed]"
     },
     "metadata": {
      "jupyter-vega": "#30b0ec85-3f82-46bb-b3a0-d413d27fc24e"
     },
     "output_type": "display_data"
    }
   ],
   "source": [
    "alt.Chart(by_neighborhood).mark_bar().encode(x = 'Thefts', y = 'Analysis Neighborhood')"
   ]
  },
  {
   "cell_type": "markdown",
   "metadata": {},
   "source": [
    "### What time of day are thefts from cars most common?"
   ]
  },
  {
   "cell_type": "code",
   "execution_count": 39,
   "metadata": {},
   "outputs": [
    {
     "data": {
      "application/javascript": [
       "var spec = {\"config\": {\"view\": {\"width\": 400, \"height\": 300}}, \"data\": {\"name\": \"data-6e4d563c7728cdfc7aa75e70a05d2519\"}, \"mark\": \"bar\", \"encoding\": {\"x\": {\"type\": \"ordinal\", \"field\": \"Hour\"}, \"y\": {\"type\": \"quantitative\", \"field\": \"Thefts\"}}, \"$schema\": \"https://vega.github.io/schema/vega-lite/v2.6.0.json\", \"datasets\": {\"data-6e4d563c7728cdfc7aa75e70a05d2519\": [{\"Hour\": 0, \"Thefts\": 1126}, {\"Hour\": 1, \"Thefts\": 591}, {\"Hour\": 2, \"Thefts\": 411}, {\"Hour\": 3, \"Thefts\": 304}, {\"Hour\": 4, \"Thefts\": 185}, {\"Hour\": 5, \"Thefts\": 225}, {\"Hour\": 6, \"Thefts\": 304}, {\"Hour\": 7, \"Thefts\": 382}, {\"Hour\": 8, \"Thefts\": 649}, {\"Hour\": 9, \"Thefts\": 811}, {\"Hour\": 10, \"Thefts\": 1218}, {\"Hour\": 11, \"Thefts\": 1504}, {\"Hour\": 12, \"Thefts\": 1662}, {\"Hour\": 13, \"Thefts\": 1448}, {\"Hour\": 14, \"Thefts\": 1377}, {\"Hour\": 15, \"Thefts\": 1336}, {\"Hour\": 16, \"Thefts\": 1482}, {\"Hour\": 17, \"Thefts\": 1869}, {\"Hour\": 18, \"Thefts\": 2611}, {\"Hour\": 19, \"Thefts\": 2819}, {\"Hour\": 20, \"Thefts\": 2642}, {\"Hour\": 21, \"Thefts\": 2086}, {\"Hour\": 22, \"Thefts\": 1634}, {\"Hour\": 23, \"Thefts\": 1148}]}};\n",
       "var opt = {};\n",
       "var type = \"vega-lite\";\n",
       "var id = \"626dc2bd-e668-43f5-b269-b86bb6a37e49\";\n",
       "\n",
       "var output_area = this;\n",
       "\n",
       "require([\"nbextensions/jupyter-vega/index\"], function(vega) {\n",
       "  var target = document.createElement(\"div\");\n",
       "  target.id = id;\n",
       "  target.className = \"vega-embed\";\n",
       "\n",
       "  var style = document.createElement(\"style\");\n",
       "  style.textContent = [\n",
       "    \".vega-embed .error p {\",\n",
       "    \"  color: firebrick;\",\n",
       "    \"  font-size: 14px;\",\n",
       "    \"}\",\n",
       "  ].join(\"\\\\n\");\n",
       "\n",
       "  // element is a jQuery wrapped DOM element inside the output area\n",
       "  // see http://ipython.readthedocs.io/en/stable/api/generated/\\\n",
       "  // IPython.display.html#IPython.display.Javascript.__init__\n",
       "  element[0].appendChild(target);\n",
       "  element[0].appendChild(style);\n",
       "\n",
       "  vega.render(\"#\" + id, spec, type, opt, output_area);\n",
       "}, function (err) {\n",
       "  if (err.requireType !== \"scripterror\") {\n",
       "    throw(err);\n",
       "  }\n",
       "});\n"
      ],
      "text/plain": [
       "<vega.vegalite.VegaLite at 0x1171d3588>"
      ]
     },
     "metadata": {
      "jupyter-vega": "#626dc2bd-e668-43f5-b269-b86bb6a37e49"
     },
     "output_type": "display_data"
    },
    {
     "data": {
      "text/plain": []
     },
     "execution_count": 39,
     "metadata": {},
     "output_type": "execute_result"
    },
    {
     "data": {
      "image/png": "[encoded data removed]"
     },
     "metadata": {
      "jupyter-vega": "#626dc2bd-e668-43f5-b269-b86bb6a37e49"
     },
     "output_type": "display_data"
    }
   ],
   "source": [
    "by_hour = thefts_from_car[['incident_timestamp', 'Row ID']].groupby(thefts_from_car['incident_timestamp'].dt.hour.rename('Hour')).agg({'Row ID': 'count'})\n",
    "by_hour = pd.DataFrame(by_hour.to_records())\n",
    "by_hour.rename(columns = {'Row ID' : 'Thefts'}, inplace = True)\n",
    "\n",
    "alt.Chart(by_hour).mark_bar().encode(y = 'Thefts', x = 'Hour:O')"
   ]
  },
  {
   "cell_type": "code",
   "execution_count": 40,
   "metadata": {},
   "outputs": [
    {
     "data": {
      "text/plain": [
       "Timedelta('0 days 09:23:00')"
      ]
     },
     "execution_count": 40,
     "metadata": {},
     "output_type": "execute_result"
    }
   ],
   "source": [
    "(thefts_from_car['report_timestamp'] - thefts_from_car['incident_timestamp']).median()"
   ]
  },
  {
   "cell_type": "code",
   "execution_count": null,
   "metadata": {},
   "outputs": [],
   "source": []
  }
 ],
 "metadata": {
  "kernelspec": {
   "display_name": "Python 3",
   "language": "python",
   "name": "python3"
  },
  "language_info": {
   "codemirror_mode": {
    "name": "ipython",
    "version": 3
   },
   "file_extension": ".py",
   "mimetype": "text/x-python",
   "name": "python",
   "nbconvert_exporter": "python",
   "pygments_lexer": "ipython3",
   "version": "3.6.7"
  }
 },
 "nbformat": 4,
 "nbformat_minor": 2
}
